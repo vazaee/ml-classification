{
  "nbformat": 4,
  "nbformat_minor": 0,
  "metadata": {
    "colab": {
      "name": "ml_project.ipynb",
      "provenance": [],
      "collapsed_sections": []
    },
    "kernelspec": {
      "name": "python3",
      "display_name": "Python 3"
    },
    "language_info": {
      "name": "python"
    }
  },
  "cells": [
    {
      "cell_type": "markdown",
      "source": [
        "# Data import"
      ],
      "metadata": {
        "id": "gYfUzWttuQEj"
      }
    },
    {
      "cell_type": "code",
      "execution_count": 1,
      "metadata": {
        "id": "aC9XF-0Tsyqr"
      },
      "outputs": [],
      "source": [
        "import pandas as pd"
      ]
    },
    {
      "cell_type": "code",
      "source": [
        "data = pd.read_csv('/content/Customer-Churn.csv')"
      ],
      "metadata": {
        "id": "UHz_F871t44F"
      },
      "execution_count": 2,
      "outputs": []
    },
    {
      "cell_type": "code",
      "source": [
        "data.shape"
      ],
      "metadata": {
        "colab": {
          "base_uri": "https://localhost:8080/"
        },
        "id": "tsqeIoNvt-HZ",
        "outputId": "d8fa39c9-8dfd-415a-b651-55d6ecc72b69"
      },
      "execution_count": 3,
      "outputs": [
        {
          "output_type": "execute_result",
          "data": {
            "text/plain": [
              "(7043, 18)"
            ]
          },
          "metadata": {},
          "execution_count": 3
        }
      ]
    },
    {
      "cell_type": "code",
      "source": [
        "data.head()"
      ],
      "metadata": {
        "colab": {
          "base_uri": "https://localhost:8080/",
          "height": 270
        },
        "id": "Pn-oGYpTt_x-",
        "outputId": "636a7a0e-2fc3-47e2-fd64-5a118f9a526c"
      },
      "execution_count": 4,
      "outputs": [
        {
          "output_type": "execute_result",
          "data": {
            "text/plain": [
              "   Maior65Anos Conjuge Dependentes  MesesDeContrato TelefoneFixo  \\\n",
              "0            0     Sim         Nao                1          Nao   \n",
              "1            0     Nao         Nao               34          Sim   \n",
              "2            0     Nao         Nao                2          Sim   \n",
              "3            0     Nao         Nao               45          Nao   \n",
              "4            0     Nao         Nao                2          Sim   \n",
              "\n",
              "  VariasLinhasTelefonicas ServicoDeInternet SegurancaOnline BackupOnline  \\\n",
              "0    SemServicoTelefonico               DSL             Nao          Sim   \n",
              "1                     Nao               DSL             Sim          Nao   \n",
              "2                     Nao               DSL             Sim          Sim   \n",
              "3    SemServicoTelefonico               DSL             Sim          Nao   \n",
              "4                     Nao       FibraOptica             Nao          Nao   \n",
              "\n",
              "  SeguroNoDispositivo SuporteTecnico TVaCabo StreamingDeFilmes TipoDeContrato  \\\n",
              "0                 Nao            Nao     Nao               Nao    Mensalmente   \n",
              "1                 Sim            Nao     Nao               Nao          UmAno   \n",
              "2                 Nao            Nao     Nao               Nao    Mensalmente   \n",
              "3                 Sim            Sim     Nao               Nao          UmAno   \n",
              "4                 Nao            Nao     Nao               Nao    Mensalmente   \n",
              "\n",
              "  PagamentoOnline FormaDePagamento  ContaMensal Churn  \n",
              "0             Sim    ChequeDigital        29.85   Nao  \n",
              "1             Nao      ChequePapel        56.95   Nao  \n",
              "2             Sim      ChequePapel        53.85   Sim  \n",
              "3             Nao    DebitoEmConta        42.30   Nao  \n",
              "4             Sim    ChequeDigital        70.70   Sim  "
            ],
            "text/html": [
              "\n",
              "  <div id=\"df-060a42f5-f3e9-4312-b0db-beecf95e53bb\">\n",
              "    <div class=\"colab-df-container\">\n",
              "      <div>\n",
              "<style scoped>\n",
              "    .dataframe tbody tr th:only-of-type {\n",
              "        vertical-align: middle;\n",
              "    }\n",
              "\n",
              "    .dataframe tbody tr th {\n",
              "        vertical-align: top;\n",
              "    }\n",
              "\n",
              "    .dataframe thead th {\n",
              "        text-align: right;\n",
              "    }\n",
              "</style>\n",
              "<table border=\"1\" class=\"dataframe\">\n",
              "  <thead>\n",
              "    <tr style=\"text-align: right;\">\n",
              "      <th></th>\n",
              "      <th>Maior65Anos</th>\n",
              "      <th>Conjuge</th>\n",
              "      <th>Dependentes</th>\n",
              "      <th>MesesDeContrato</th>\n",
              "      <th>TelefoneFixo</th>\n",
              "      <th>VariasLinhasTelefonicas</th>\n",
              "      <th>ServicoDeInternet</th>\n",
              "      <th>SegurancaOnline</th>\n",
              "      <th>BackupOnline</th>\n",
              "      <th>SeguroNoDispositivo</th>\n",
              "      <th>SuporteTecnico</th>\n",
              "      <th>TVaCabo</th>\n",
              "      <th>StreamingDeFilmes</th>\n",
              "      <th>TipoDeContrato</th>\n",
              "      <th>PagamentoOnline</th>\n",
              "      <th>FormaDePagamento</th>\n",
              "      <th>ContaMensal</th>\n",
              "      <th>Churn</th>\n",
              "    </tr>\n",
              "  </thead>\n",
              "  <tbody>\n",
              "    <tr>\n",
              "      <th>0</th>\n",
              "      <td>0</td>\n",
              "      <td>Sim</td>\n",
              "      <td>Nao</td>\n",
              "      <td>1</td>\n",
              "      <td>Nao</td>\n",
              "      <td>SemServicoTelefonico</td>\n",
              "      <td>DSL</td>\n",
              "      <td>Nao</td>\n",
              "      <td>Sim</td>\n",
              "      <td>Nao</td>\n",
              "      <td>Nao</td>\n",
              "      <td>Nao</td>\n",
              "      <td>Nao</td>\n",
              "      <td>Mensalmente</td>\n",
              "      <td>Sim</td>\n",
              "      <td>ChequeDigital</td>\n",
              "      <td>29.85</td>\n",
              "      <td>Nao</td>\n",
              "    </tr>\n",
              "    <tr>\n",
              "      <th>1</th>\n",
              "      <td>0</td>\n",
              "      <td>Nao</td>\n",
              "      <td>Nao</td>\n",
              "      <td>34</td>\n",
              "      <td>Sim</td>\n",
              "      <td>Nao</td>\n",
              "      <td>DSL</td>\n",
              "      <td>Sim</td>\n",
              "      <td>Nao</td>\n",
              "      <td>Sim</td>\n",
              "      <td>Nao</td>\n",
              "      <td>Nao</td>\n",
              "      <td>Nao</td>\n",
              "      <td>UmAno</td>\n",
              "      <td>Nao</td>\n",
              "      <td>ChequePapel</td>\n",
              "      <td>56.95</td>\n",
              "      <td>Nao</td>\n",
              "    </tr>\n",
              "    <tr>\n",
              "      <th>2</th>\n",
              "      <td>0</td>\n",
              "      <td>Nao</td>\n",
              "      <td>Nao</td>\n",
              "      <td>2</td>\n",
              "      <td>Sim</td>\n",
              "      <td>Nao</td>\n",
              "      <td>DSL</td>\n",
              "      <td>Sim</td>\n",
              "      <td>Sim</td>\n",
              "      <td>Nao</td>\n",
              "      <td>Nao</td>\n",
              "      <td>Nao</td>\n",
              "      <td>Nao</td>\n",
              "      <td>Mensalmente</td>\n",
              "      <td>Sim</td>\n",
              "      <td>ChequePapel</td>\n",
              "      <td>53.85</td>\n",
              "      <td>Sim</td>\n",
              "    </tr>\n",
              "    <tr>\n",
              "      <th>3</th>\n",
              "      <td>0</td>\n",
              "      <td>Nao</td>\n",
              "      <td>Nao</td>\n",
              "      <td>45</td>\n",
              "      <td>Nao</td>\n",
              "      <td>SemServicoTelefonico</td>\n",
              "      <td>DSL</td>\n",
              "      <td>Sim</td>\n",
              "      <td>Nao</td>\n",
              "      <td>Sim</td>\n",
              "      <td>Sim</td>\n",
              "      <td>Nao</td>\n",
              "      <td>Nao</td>\n",
              "      <td>UmAno</td>\n",
              "      <td>Nao</td>\n",
              "      <td>DebitoEmConta</td>\n",
              "      <td>42.30</td>\n",
              "      <td>Nao</td>\n",
              "    </tr>\n",
              "    <tr>\n",
              "      <th>4</th>\n",
              "      <td>0</td>\n",
              "      <td>Nao</td>\n",
              "      <td>Nao</td>\n",
              "      <td>2</td>\n",
              "      <td>Sim</td>\n",
              "      <td>Nao</td>\n",
              "      <td>FibraOptica</td>\n",
              "      <td>Nao</td>\n",
              "      <td>Nao</td>\n",
              "      <td>Nao</td>\n",
              "      <td>Nao</td>\n",
              "      <td>Nao</td>\n",
              "      <td>Nao</td>\n",
              "      <td>Mensalmente</td>\n",
              "      <td>Sim</td>\n",
              "      <td>ChequeDigital</td>\n",
              "      <td>70.70</td>\n",
              "      <td>Sim</td>\n",
              "    </tr>\n",
              "  </tbody>\n",
              "</table>\n",
              "</div>\n",
              "      <button class=\"colab-df-convert\" onclick=\"convertToInteractive('df-060a42f5-f3e9-4312-b0db-beecf95e53bb')\"\n",
              "              title=\"Convert this dataframe to an interactive table.\"\n",
              "              style=\"display:none;\">\n",
              "        \n",
              "  <svg xmlns=\"http://www.w3.org/2000/svg\" height=\"24px\"viewBox=\"0 0 24 24\"\n",
              "       width=\"24px\">\n",
              "    <path d=\"M0 0h24v24H0V0z\" fill=\"none\"/>\n",
              "    <path d=\"M18.56 5.44l.94 2.06.94-2.06 2.06-.94-2.06-.94-.94-2.06-.94 2.06-2.06.94zm-11 1L8.5 8.5l.94-2.06 2.06-.94-2.06-.94L8.5 2.5l-.94 2.06-2.06.94zm10 10l.94 2.06.94-2.06 2.06-.94-2.06-.94-.94-2.06-.94 2.06-2.06.94z\"/><path d=\"M17.41 7.96l-1.37-1.37c-.4-.4-.92-.59-1.43-.59-.52 0-1.04.2-1.43.59L10.3 9.45l-7.72 7.72c-.78.78-.78 2.05 0 2.83L4 21.41c.39.39.9.59 1.41.59.51 0 1.02-.2 1.41-.59l7.78-7.78 2.81-2.81c.8-.78.8-2.07 0-2.86zM5.41 20L4 18.59l7.72-7.72 1.47 1.35L5.41 20z\"/>\n",
              "  </svg>\n",
              "      </button>\n",
              "      \n",
              "  <style>\n",
              "    .colab-df-container {\n",
              "      display:flex;\n",
              "      flex-wrap:wrap;\n",
              "      gap: 12px;\n",
              "    }\n",
              "\n",
              "    .colab-df-convert {\n",
              "      background-color: #E8F0FE;\n",
              "      border: none;\n",
              "      border-radius: 50%;\n",
              "      cursor: pointer;\n",
              "      display: none;\n",
              "      fill: #1967D2;\n",
              "      height: 32px;\n",
              "      padding: 0 0 0 0;\n",
              "      width: 32px;\n",
              "    }\n",
              "\n",
              "    .colab-df-convert:hover {\n",
              "      background-color: #E2EBFA;\n",
              "      box-shadow: 0px 1px 2px rgba(60, 64, 67, 0.3), 0px 1px 3px 1px rgba(60, 64, 67, 0.15);\n",
              "      fill: #174EA6;\n",
              "    }\n",
              "\n",
              "    [theme=dark] .colab-df-convert {\n",
              "      background-color: #3B4455;\n",
              "      fill: #D2E3FC;\n",
              "    }\n",
              "\n",
              "    [theme=dark] .colab-df-convert:hover {\n",
              "      background-color: #434B5C;\n",
              "      box-shadow: 0px 1px 3px 1px rgba(0, 0, 0, 0.15);\n",
              "      filter: drop-shadow(0px 1px 2px rgba(0, 0, 0, 0.3));\n",
              "      fill: #FFFFFF;\n",
              "    }\n",
              "  </style>\n",
              "\n",
              "      <script>\n",
              "        const buttonEl =\n",
              "          document.querySelector('#df-060a42f5-f3e9-4312-b0db-beecf95e53bb button.colab-df-convert');\n",
              "        buttonEl.style.display =\n",
              "          google.colab.kernel.accessAllowed ? 'block' : 'none';\n",
              "\n",
              "        async function convertToInteractive(key) {\n",
              "          const element = document.querySelector('#df-060a42f5-f3e9-4312-b0db-beecf95e53bb');\n",
              "          const dataTable =\n",
              "            await google.colab.kernel.invokeFunction('convertToInteractive',\n",
              "                                                     [key], {});\n",
              "          if (!dataTable) return;\n",
              "\n",
              "          const docLinkHtml = 'Like what you see? Visit the ' +\n",
              "            '<a target=\"_blank\" href=https://colab.research.google.com/notebooks/data_table.ipynb>data table notebook</a>'\n",
              "            + ' to learn more about interactive tables.';\n",
              "          element.innerHTML = '';\n",
              "          dataTable['output_type'] = 'display_data';\n",
              "          await google.colab.output.renderOutput(dataTable, element);\n",
              "          const docLink = document.createElement('div');\n",
              "          docLink.innerHTML = docLinkHtml;\n",
              "          element.appendChild(docLink);\n",
              "        }\n",
              "      </script>\n",
              "    </div>\n",
              "  </div>\n",
              "  "
            ]
          },
          "metadata": {},
          "execution_count": 4
        }
      ]
    },
    {
      "cell_type": "markdown",
      "source": [
        "# Renaming Columns"
      ],
      "metadata": {
        "id": "1I_YuMsczZLa"
      }
    },
    {
      "cell_type": "code",
      "source": [
        "rename = {\n",
        "    'Maior65Anos' : 'over_65',\n",
        "    'Conjuge' : 'spouse',\n",
        "    'Dependentes' : 'dependents',\n",
        "    'MesesDeContrato' : 'contract_months',\n",
        "    'TelefoneFixo' : 'landline',\n",
        "    'VariasLinhasTelefonicas' : 'several_line_phones',\n",
        "    'ServicoDeInternet' : 'internet_service',\n",
        "    'SegurancaOnline' : 'online_security',\n",
        "    'BackupOnline' : 'online_backup',\n",
        "    'SeguroNoDispositivo' : 'insurance_on_device',\n",
        "    'SuporteTecnico' : 'tecnical_support',\n",
        "    'TVaCabo' : 'cable_tv',\n",
        "    'StreamingDeFilmes' : 'streaming_movies',\n",
        "    'TipoDeContrato' : 'type_of_contract',\n",
        "    'PagamentoOnline' : 'online_payment',\n",
        "    'FormaDePagamento' : 'payment_method',\n",
        "    'ContaMensal' : 'monthly_bill',\n",
        "    'Churn' : 'churn'\n",
        "}\n",
        "data.rename(rename, axis=1, inplace=True)\n",
        "data.head()"
      ],
      "metadata": {
        "colab": {
          "base_uri": "https://localhost:8080/",
          "height": 270
        },
        "id": "j5ZHjGIdvWxh",
        "outputId": "32195b0f-6e30-4a64-b854-16804be18315"
      },
      "execution_count": 5,
      "outputs": [
        {
          "output_type": "execute_result",
          "data": {
            "text/plain": [
              "   over_65 spouse dependents  contract_months landline   several_line_phones  \\\n",
              "0        0    Sim        Nao                1      Nao  SemServicoTelefonico   \n",
              "1        0    Nao        Nao               34      Sim                   Nao   \n",
              "2        0    Nao        Nao                2      Sim                   Nao   \n",
              "3        0    Nao        Nao               45      Nao  SemServicoTelefonico   \n",
              "4        0    Nao        Nao                2      Sim                   Nao   \n",
              "\n",
              "  internet_service online_security online_backup insurance_on_device  \\\n",
              "0              DSL             Nao           Sim                 Nao   \n",
              "1              DSL             Sim           Nao                 Sim   \n",
              "2              DSL             Sim           Sim                 Nao   \n",
              "3              DSL             Sim           Nao                 Sim   \n",
              "4      FibraOptica             Nao           Nao                 Nao   \n",
              "\n",
              "  tecnical_support cable_tv streaming_movies type_of_contract online_payment  \\\n",
              "0              Nao      Nao              Nao      Mensalmente            Sim   \n",
              "1              Nao      Nao              Nao            UmAno            Nao   \n",
              "2              Nao      Nao              Nao      Mensalmente            Sim   \n",
              "3              Sim      Nao              Nao            UmAno            Nao   \n",
              "4              Nao      Nao              Nao      Mensalmente            Sim   \n",
              "\n",
              "  payment_method  monthly_bill churn  \n",
              "0  ChequeDigital         29.85   Nao  \n",
              "1    ChequePapel         56.95   Nao  \n",
              "2    ChequePapel         53.85   Sim  \n",
              "3  DebitoEmConta         42.30   Nao  \n",
              "4  ChequeDigital         70.70   Sim  "
            ],
            "text/html": [
              "\n",
              "  <div id=\"df-6b42b8dc-0feb-4ad0-9562-6ca3fba1b3ba\">\n",
              "    <div class=\"colab-df-container\">\n",
              "      <div>\n",
              "<style scoped>\n",
              "    .dataframe tbody tr th:only-of-type {\n",
              "        vertical-align: middle;\n",
              "    }\n",
              "\n",
              "    .dataframe tbody tr th {\n",
              "        vertical-align: top;\n",
              "    }\n",
              "\n",
              "    .dataframe thead th {\n",
              "        text-align: right;\n",
              "    }\n",
              "</style>\n",
              "<table border=\"1\" class=\"dataframe\">\n",
              "  <thead>\n",
              "    <tr style=\"text-align: right;\">\n",
              "      <th></th>\n",
              "      <th>over_65</th>\n",
              "      <th>spouse</th>\n",
              "      <th>dependents</th>\n",
              "      <th>contract_months</th>\n",
              "      <th>landline</th>\n",
              "      <th>several_line_phones</th>\n",
              "      <th>internet_service</th>\n",
              "      <th>online_security</th>\n",
              "      <th>online_backup</th>\n",
              "      <th>insurance_on_device</th>\n",
              "      <th>tecnical_support</th>\n",
              "      <th>cable_tv</th>\n",
              "      <th>streaming_movies</th>\n",
              "      <th>type_of_contract</th>\n",
              "      <th>online_payment</th>\n",
              "      <th>payment_method</th>\n",
              "      <th>monthly_bill</th>\n",
              "      <th>churn</th>\n",
              "    </tr>\n",
              "  </thead>\n",
              "  <tbody>\n",
              "    <tr>\n",
              "      <th>0</th>\n",
              "      <td>0</td>\n",
              "      <td>Sim</td>\n",
              "      <td>Nao</td>\n",
              "      <td>1</td>\n",
              "      <td>Nao</td>\n",
              "      <td>SemServicoTelefonico</td>\n",
              "      <td>DSL</td>\n",
              "      <td>Nao</td>\n",
              "      <td>Sim</td>\n",
              "      <td>Nao</td>\n",
              "      <td>Nao</td>\n",
              "      <td>Nao</td>\n",
              "      <td>Nao</td>\n",
              "      <td>Mensalmente</td>\n",
              "      <td>Sim</td>\n",
              "      <td>ChequeDigital</td>\n",
              "      <td>29.85</td>\n",
              "      <td>Nao</td>\n",
              "    </tr>\n",
              "    <tr>\n",
              "      <th>1</th>\n",
              "      <td>0</td>\n",
              "      <td>Nao</td>\n",
              "      <td>Nao</td>\n",
              "      <td>34</td>\n",
              "      <td>Sim</td>\n",
              "      <td>Nao</td>\n",
              "      <td>DSL</td>\n",
              "      <td>Sim</td>\n",
              "      <td>Nao</td>\n",
              "      <td>Sim</td>\n",
              "      <td>Nao</td>\n",
              "      <td>Nao</td>\n",
              "      <td>Nao</td>\n",
              "      <td>UmAno</td>\n",
              "      <td>Nao</td>\n",
              "      <td>ChequePapel</td>\n",
              "      <td>56.95</td>\n",
              "      <td>Nao</td>\n",
              "    </tr>\n",
              "    <tr>\n",
              "      <th>2</th>\n",
              "      <td>0</td>\n",
              "      <td>Nao</td>\n",
              "      <td>Nao</td>\n",
              "      <td>2</td>\n",
              "      <td>Sim</td>\n",
              "      <td>Nao</td>\n",
              "      <td>DSL</td>\n",
              "      <td>Sim</td>\n",
              "      <td>Sim</td>\n",
              "      <td>Nao</td>\n",
              "      <td>Nao</td>\n",
              "      <td>Nao</td>\n",
              "      <td>Nao</td>\n",
              "      <td>Mensalmente</td>\n",
              "      <td>Sim</td>\n",
              "      <td>ChequePapel</td>\n",
              "      <td>53.85</td>\n",
              "      <td>Sim</td>\n",
              "    </tr>\n",
              "    <tr>\n",
              "      <th>3</th>\n",
              "      <td>0</td>\n",
              "      <td>Nao</td>\n",
              "      <td>Nao</td>\n",
              "      <td>45</td>\n",
              "      <td>Nao</td>\n",
              "      <td>SemServicoTelefonico</td>\n",
              "      <td>DSL</td>\n",
              "      <td>Sim</td>\n",
              "      <td>Nao</td>\n",
              "      <td>Sim</td>\n",
              "      <td>Sim</td>\n",
              "      <td>Nao</td>\n",
              "      <td>Nao</td>\n",
              "      <td>UmAno</td>\n",
              "      <td>Nao</td>\n",
              "      <td>DebitoEmConta</td>\n",
              "      <td>42.30</td>\n",
              "      <td>Nao</td>\n",
              "    </tr>\n",
              "    <tr>\n",
              "      <th>4</th>\n",
              "      <td>0</td>\n",
              "      <td>Nao</td>\n",
              "      <td>Nao</td>\n",
              "      <td>2</td>\n",
              "      <td>Sim</td>\n",
              "      <td>Nao</td>\n",
              "      <td>FibraOptica</td>\n",
              "      <td>Nao</td>\n",
              "      <td>Nao</td>\n",
              "      <td>Nao</td>\n",
              "      <td>Nao</td>\n",
              "      <td>Nao</td>\n",
              "      <td>Nao</td>\n",
              "      <td>Mensalmente</td>\n",
              "      <td>Sim</td>\n",
              "      <td>ChequeDigital</td>\n",
              "      <td>70.70</td>\n",
              "      <td>Sim</td>\n",
              "    </tr>\n",
              "  </tbody>\n",
              "</table>\n",
              "</div>\n",
              "      <button class=\"colab-df-convert\" onclick=\"convertToInteractive('df-6b42b8dc-0feb-4ad0-9562-6ca3fba1b3ba')\"\n",
              "              title=\"Convert this dataframe to an interactive table.\"\n",
              "              style=\"display:none;\">\n",
              "        \n",
              "  <svg xmlns=\"http://www.w3.org/2000/svg\" height=\"24px\"viewBox=\"0 0 24 24\"\n",
              "       width=\"24px\">\n",
              "    <path d=\"M0 0h24v24H0V0z\" fill=\"none\"/>\n",
              "    <path d=\"M18.56 5.44l.94 2.06.94-2.06 2.06-.94-2.06-.94-.94-2.06-.94 2.06-2.06.94zm-11 1L8.5 8.5l.94-2.06 2.06-.94-2.06-.94L8.5 2.5l-.94 2.06-2.06.94zm10 10l.94 2.06.94-2.06 2.06-.94-2.06-.94-.94-2.06-.94 2.06-2.06.94z\"/><path d=\"M17.41 7.96l-1.37-1.37c-.4-.4-.92-.59-1.43-.59-.52 0-1.04.2-1.43.59L10.3 9.45l-7.72 7.72c-.78.78-.78 2.05 0 2.83L4 21.41c.39.39.9.59 1.41.59.51 0 1.02-.2 1.41-.59l7.78-7.78 2.81-2.81c.8-.78.8-2.07 0-2.86zM5.41 20L4 18.59l7.72-7.72 1.47 1.35L5.41 20z\"/>\n",
              "  </svg>\n",
              "      </button>\n",
              "      \n",
              "  <style>\n",
              "    .colab-df-container {\n",
              "      display:flex;\n",
              "      flex-wrap:wrap;\n",
              "      gap: 12px;\n",
              "    }\n",
              "\n",
              "    .colab-df-convert {\n",
              "      background-color: #E8F0FE;\n",
              "      border: none;\n",
              "      border-radius: 50%;\n",
              "      cursor: pointer;\n",
              "      display: none;\n",
              "      fill: #1967D2;\n",
              "      height: 32px;\n",
              "      padding: 0 0 0 0;\n",
              "      width: 32px;\n",
              "    }\n",
              "\n",
              "    .colab-df-convert:hover {\n",
              "      background-color: #E2EBFA;\n",
              "      box-shadow: 0px 1px 2px rgba(60, 64, 67, 0.3), 0px 1px 3px 1px rgba(60, 64, 67, 0.15);\n",
              "      fill: #174EA6;\n",
              "    }\n",
              "\n",
              "    [theme=dark] .colab-df-convert {\n",
              "      background-color: #3B4455;\n",
              "      fill: #D2E3FC;\n",
              "    }\n",
              "\n",
              "    [theme=dark] .colab-df-convert:hover {\n",
              "      background-color: #434B5C;\n",
              "      box-shadow: 0px 1px 3px 1px rgba(0, 0, 0, 0.15);\n",
              "      filter: drop-shadow(0px 1px 2px rgba(0, 0, 0, 0.3));\n",
              "      fill: #FFFFFF;\n",
              "    }\n",
              "  </style>\n",
              "\n",
              "      <script>\n",
              "        const buttonEl =\n",
              "          document.querySelector('#df-6b42b8dc-0feb-4ad0-9562-6ca3fba1b3ba button.colab-df-convert');\n",
              "        buttonEl.style.display =\n",
              "          google.colab.kernel.accessAllowed ? 'block' : 'none';\n",
              "\n",
              "        async function convertToInteractive(key) {\n",
              "          const element = document.querySelector('#df-6b42b8dc-0feb-4ad0-9562-6ca3fba1b3ba');\n",
              "          const dataTable =\n",
              "            await google.colab.kernel.invokeFunction('convertToInteractive',\n",
              "                                                     [key], {});\n",
              "          if (!dataTable) return;\n",
              "\n",
              "          const docLinkHtml = 'Like what you see? Visit the ' +\n",
              "            '<a target=\"_blank\" href=https://colab.research.google.com/notebooks/data_table.ipynb>data table notebook</a>'\n",
              "            + ' to learn more about interactive tables.';\n",
              "          element.innerHTML = '';\n",
              "          dataTable['output_type'] = 'display_data';\n",
              "          await google.colab.output.renderOutput(dataTable, element);\n",
              "          const docLink = document.createElement('div');\n",
              "          docLink.innerHTML = docLinkHtml;\n",
              "          element.appendChild(docLink);\n",
              "        }\n",
              "      </script>\n",
              "    </div>\n",
              "  </div>\n",
              "  "
            ]
          },
          "metadata": {},
          "execution_count": 5
        }
      ]
    },
    {
      "cell_type": "code",
      "source": [
        "yes_no = {\n",
        "    'Sim' : 'yes',\n",
        "    'Nao' : 'no'\n",
        "}\n",
        "\n",
        "yes_no_service = {\n",
        "    'Sim' : 'yes',\n",
        "    'Nao' : 'no',\n",
        "    'SemServicoTelefonico' : 'no_phone_service'\n",
        "}\n",
        "\n",
        "internet_service = {\n",
        "    'DSL' : 'DSL',\n",
        "    'FibraOptica' : 'optic_fiber',\n",
        "    'Nao' : 'no'\n",
        "}\n",
        "\n",
        "type_contract = {\n",
        "    'Mensalmente' : 'monthly',\n",
        "    'UmAno' : 'one_year',\n",
        "    'DoisAnos' : 'two_years'\n",
        "}\n",
        "\n",
        "payment_method = {\n",
        "    'ChequeDigital' : 'digital_check', \n",
        "    'ChequePapel' : 'paper_check', \n",
        "    'DebitoEmConta' : 'account_debit',\n",
        "    'CartaoDeCredito' : 'credit_card'\n",
        "}\n",
        "\n",
        "data['spouse'] = data['spouse'].map(yes_no)\n",
        "data['dependents'] = data['dependents'].map(yes_no)\n",
        "data['landline'] = data['landline'].map(yes_no)\n",
        "data['several_line_phones'] = data['several_line_phones'].map(yes_no_service)\n",
        "data['internet_service'] = data['internet_service'].map(internet_service)\n",
        "data['online_security'] = data['online_security'].map(yes_no_service)\n",
        "data['online_backup'] = data['online_backup'].map(yes_no_service)\n",
        "data['insurance_on_device'] = data['insurance_on_device'].map(yes_no_service)\n",
        "data['tecnical_support'] = data['tecnical_support'].map(yes_no_service)\n",
        "data['cable_tv'] = data['cable_tv'].map(yes_no_service)\n",
        "data['streaming_movies'] = data['streaming_movies'].map(yes_no_service)\n",
        "data['type_of_contract'] = data['type_of_contract'].map(type_contract)\n",
        "data['online_payment'] = data['online_payment'].map(yes_no)\n",
        "data['payment_method'] = data['payment_method'].map(payment_method)\n",
        "data['churn'] = data['churn'].map(yes_no)\n",
        "\n",
        "data.head()"
      ],
      "metadata": {
        "colab": {
          "base_uri": "https://localhost:8080/",
          "height": 270
        },
        "id": "EYKCpv-8xa4w",
        "outputId": "ef01c6c0-8ebd-476c-f40f-f4f9adeaa36e"
      },
      "execution_count": 6,
      "outputs": [
        {
          "output_type": "execute_result",
          "data": {
            "text/plain": [
              "   over_65 spouse dependents  contract_months landline several_line_phones  \\\n",
              "0        0    yes         no                1       no    no_phone_service   \n",
              "1        0     no         no               34      yes                  no   \n",
              "2        0     no         no                2      yes                  no   \n",
              "3        0     no         no               45       no    no_phone_service   \n",
              "4        0     no         no                2      yes                  no   \n",
              "\n",
              "  internet_service online_security online_backup insurance_on_device  \\\n",
              "0              DSL              no           yes                  no   \n",
              "1              DSL             yes            no                 yes   \n",
              "2              DSL             yes           yes                  no   \n",
              "3              DSL             yes            no                 yes   \n",
              "4      optic_fiber              no            no                  no   \n",
              "\n",
              "  tecnical_support cable_tv streaming_movies type_of_contract online_payment  \\\n",
              "0               no       no               no          monthly            yes   \n",
              "1               no       no               no         one_year             no   \n",
              "2               no       no               no          monthly            yes   \n",
              "3              yes       no               no         one_year             no   \n",
              "4               no       no               no          monthly            yes   \n",
              "\n",
              "  payment_method  monthly_bill churn  \n",
              "0  digital_check         29.85    no  \n",
              "1    paper_check         56.95    no  \n",
              "2    paper_check         53.85   yes  \n",
              "3  account_debit         42.30    no  \n",
              "4  digital_check         70.70   yes  "
            ],
            "text/html": [
              "\n",
              "  <div id=\"df-95006186-6ccc-4a18-81b2-c07a01b4fec4\">\n",
              "    <div class=\"colab-df-container\">\n",
              "      <div>\n",
              "<style scoped>\n",
              "    .dataframe tbody tr th:only-of-type {\n",
              "        vertical-align: middle;\n",
              "    }\n",
              "\n",
              "    .dataframe tbody tr th {\n",
              "        vertical-align: top;\n",
              "    }\n",
              "\n",
              "    .dataframe thead th {\n",
              "        text-align: right;\n",
              "    }\n",
              "</style>\n",
              "<table border=\"1\" class=\"dataframe\">\n",
              "  <thead>\n",
              "    <tr style=\"text-align: right;\">\n",
              "      <th></th>\n",
              "      <th>over_65</th>\n",
              "      <th>spouse</th>\n",
              "      <th>dependents</th>\n",
              "      <th>contract_months</th>\n",
              "      <th>landline</th>\n",
              "      <th>several_line_phones</th>\n",
              "      <th>internet_service</th>\n",
              "      <th>online_security</th>\n",
              "      <th>online_backup</th>\n",
              "      <th>insurance_on_device</th>\n",
              "      <th>tecnical_support</th>\n",
              "      <th>cable_tv</th>\n",
              "      <th>streaming_movies</th>\n",
              "      <th>type_of_contract</th>\n",
              "      <th>online_payment</th>\n",
              "      <th>payment_method</th>\n",
              "      <th>monthly_bill</th>\n",
              "      <th>churn</th>\n",
              "    </tr>\n",
              "  </thead>\n",
              "  <tbody>\n",
              "    <tr>\n",
              "      <th>0</th>\n",
              "      <td>0</td>\n",
              "      <td>yes</td>\n",
              "      <td>no</td>\n",
              "      <td>1</td>\n",
              "      <td>no</td>\n",
              "      <td>no_phone_service</td>\n",
              "      <td>DSL</td>\n",
              "      <td>no</td>\n",
              "      <td>yes</td>\n",
              "      <td>no</td>\n",
              "      <td>no</td>\n",
              "      <td>no</td>\n",
              "      <td>no</td>\n",
              "      <td>monthly</td>\n",
              "      <td>yes</td>\n",
              "      <td>digital_check</td>\n",
              "      <td>29.85</td>\n",
              "      <td>no</td>\n",
              "    </tr>\n",
              "    <tr>\n",
              "      <th>1</th>\n",
              "      <td>0</td>\n",
              "      <td>no</td>\n",
              "      <td>no</td>\n",
              "      <td>34</td>\n",
              "      <td>yes</td>\n",
              "      <td>no</td>\n",
              "      <td>DSL</td>\n",
              "      <td>yes</td>\n",
              "      <td>no</td>\n",
              "      <td>yes</td>\n",
              "      <td>no</td>\n",
              "      <td>no</td>\n",
              "      <td>no</td>\n",
              "      <td>one_year</td>\n",
              "      <td>no</td>\n",
              "      <td>paper_check</td>\n",
              "      <td>56.95</td>\n",
              "      <td>no</td>\n",
              "    </tr>\n",
              "    <tr>\n",
              "      <th>2</th>\n",
              "      <td>0</td>\n",
              "      <td>no</td>\n",
              "      <td>no</td>\n",
              "      <td>2</td>\n",
              "      <td>yes</td>\n",
              "      <td>no</td>\n",
              "      <td>DSL</td>\n",
              "      <td>yes</td>\n",
              "      <td>yes</td>\n",
              "      <td>no</td>\n",
              "      <td>no</td>\n",
              "      <td>no</td>\n",
              "      <td>no</td>\n",
              "      <td>monthly</td>\n",
              "      <td>yes</td>\n",
              "      <td>paper_check</td>\n",
              "      <td>53.85</td>\n",
              "      <td>yes</td>\n",
              "    </tr>\n",
              "    <tr>\n",
              "      <th>3</th>\n",
              "      <td>0</td>\n",
              "      <td>no</td>\n",
              "      <td>no</td>\n",
              "      <td>45</td>\n",
              "      <td>no</td>\n",
              "      <td>no_phone_service</td>\n",
              "      <td>DSL</td>\n",
              "      <td>yes</td>\n",
              "      <td>no</td>\n",
              "      <td>yes</td>\n",
              "      <td>yes</td>\n",
              "      <td>no</td>\n",
              "      <td>no</td>\n",
              "      <td>one_year</td>\n",
              "      <td>no</td>\n",
              "      <td>account_debit</td>\n",
              "      <td>42.30</td>\n",
              "      <td>no</td>\n",
              "    </tr>\n",
              "    <tr>\n",
              "      <th>4</th>\n",
              "      <td>0</td>\n",
              "      <td>no</td>\n",
              "      <td>no</td>\n",
              "      <td>2</td>\n",
              "      <td>yes</td>\n",
              "      <td>no</td>\n",
              "      <td>optic_fiber</td>\n",
              "      <td>no</td>\n",
              "      <td>no</td>\n",
              "      <td>no</td>\n",
              "      <td>no</td>\n",
              "      <td>no</td>\n",
              "      <td>no</td>\n",
              "      <td>monthly</td>\n",
              "      <td>yes</td>\n",
              "      <td>digital_check</td>\n",
              "      <td>70.70</td>\n",
              "      <td>yes</td>\n",
              "    </tr>\n",
              "  </tbody>\n",
              "</table>\n",
              "</div>\n",
              "      <button class=\"colab-df-convert\" onclick=\"convertToInteractive('df-95006186-6ccc-4a18-81b2-c07a01b4fec4')\"\n",
              "              title=\"Convert this dataframe to an interactive table.\"\n",
              "              style=\"display:none;\">\n",
              "        \n",
              "  <svg xmlns=\"http://www.w3.org/2000/svg\" height=\"24px\"viewBox=\"0 0 24 24\"\n",
              "       width=\"24px\">\n",
              "    <path d=\"M0 0h24v24H0V0z\" fill=\"none\"/>\n",
              "    <path d=\"M18.56 5.44l.94 2.06.94-2.06 2.06-.94-2.06-.94-.94-2.06-.94 2.06-2.06.94zm-11 1L8.5 8.5l.94-2.06 2.06-.94-2.06-.94L8.5 2.5l-.94 2.06-2.06.94zm10 10l.94 2.06.94-2.06 2.06-.94-2.06-.94-.94-2.06-.94 2.06-2.06.94z\"/><path d=\"M17.41 7.96l-1.37-1.37c-.4-.4-.92-.59-1.43-.59-.52 0-1.04.2-1.43.59L10.3 9.45l-7.72 7.72c-.78.78-.78 2.05 0 2.83L4 21.41c.39.39.9.59 1.41.59.51 0 1.02-.2 1.41-.59l7.78-7.78 2.81-2.81c.8-.78.8-2.07 0-2.86zM5.41 20L4 18.59l7.72-7.72 1.47 1.35L5.41 20z\"/>\n",
              "  </svg>\n",
              "      </button>\n",
              "      \n",
              "  <style>\n",
              "    .colab-df-container {\n",
              "      display:flex;\n",
              "      flex-wrap:wrap;\n",
              "      gap: 12px;\n",
              "    }\n",
              "\n",
              "    .colab-df-convert {\n",
              "      background-color: #E8F0FE;\n",
              "      border: none;\n",
              "      border-radius: 50%;\n",
              "      cursor: pointer;\n",
              "      display: none;\n",
              "      fill: #1967D2;\n",
              "      height: 32px;\n",
              "      padding: 0 0 0 0;\n",
              "      width: 32px;\n",
              "    }\n",
              "\n",
              "    .colab-df-convert:hover {\n",
              "      background-color: #E2EBFA;\n",
              "      box-shadow: 0px 1px 2px rgba(60, 64, 67, 0.3), 0px 1px 3px 1px rgba(60, 64, 67, 0.15);\n",
              "      fill: #174EA6;\n",
              "    }\n",
              "\n",
              "    [theme=dark] .colab-df-convert {\n",
              "      background-color: #3B4455;\n",
              "      fill: #D2E3FC;\n",
              "    }\n",
              "\n",
              "    [theme=dark] .colab-df-convert:hover {\n",
              "      background-color: #434B5C;\n",
              "      box-shadow: 0px 1px 3px 1px rgba(0, 0, 0, 0.15);\n",
              "      filter: drop-shadow(0px 1px 2px rgba(0, 0, 0, 0.3));\n",
              "      fill: #FFFFFF;\n",
              "    }\n",
              "  </style>\n",
              "\n",
              "      <script>\n",
              "        const buttonEl =\n",
              "          document.querySelector('#df-95006186-6ccc-4a18-81b2-c07a01b4fec4 button.colab-df-convert');\n",
              "        buttonEl.style.display =\n",
              "          google.colab.kernel.accessAllowed ? 'block' : 'none';\n",
              "\n",
              "        async function convertToInteractive(key) {\n",
              "          const element = document.querySelector('#df-95006186-6ccc-4a18-81b2-c07a01b4fec4');\n",
              "          const dataTable =\n",
              "            await google.colab.kernel.invokeFunction('convertToInteractive',\n",
              "                                                     [key], {});\n",
              "          if (!dataTable) return;\n",
              "\n",
              "          const docLinkHtml = 'Like what you see? Visit the ' +\n",
              "            '<a target=\"_blank\" href=https://colab.research.google.com/notebooks/data_table.ipynb>data table notebook</a>'\n",
              "            + ' to learn more about interactive tables.';\n",
              "          element.innerHTML = '';\n",
              "          dataTable['output_type'] = 'display_data';\n",
              "          await google.colab.output.renderOutput(dataTable, element);\n",
              "          const docLink = document.createElement('div');\n",
              "          docLink.innerHTML = docLinkHtml;\n",
              "          element.appendChild(docLink);\n",
              "        }\n",
              "      </script>\n",
              "    </div>\n",
              "  </div>\n",
              "  "
            ]
          },
          "metadata": {},
          "execution_count": 6
        }
      ]
    },
    {
      "cell_type": "markdown",
      "source": [
        "# Diferents variables"
      ],
      "metadata": {
        "id": "NqJeOrIduMBY"
      }
    },
    {
      "cell_type": "code",
      "source": [
        "# manual modification\n",
        "translate_dic = {\n",
        "    'yes' : 1,\n",
        "    'no' : 0\n",
        "}\n",
        "\n",
        "modified_data = data[['spouse', 'dependents', 'landline', 'online_payment', \n",
        "                      'churn']].replace(translate_dic)\n",
        "modified_data.head()"
      ],
      "metadata": {
        "colab": {
          "base_uri": "https://localhost:8080/",
          "height": 206
        },
        "id": "QkAh3XRcuBvy",
        "outputId": "2bcd4099-c291-4f58-8518-3e7498dbf6d2"
      },
      "execution_count": 7,
      "outputs": [
        {
          "output_type": "execute_result",
          "data": {
            "text/plain": [
              "   spouse  dependents  landline  online_payment  churn\n",
              "0       1           0         0               1      0\n",
              "1       0           0         1               0      0\n",
              "2       0           0         1               1      1\n",
              "3       0           0         0               0      0\n",
              "4       0           0         1               1      1"
            ],
            "text/html": [
              "\n",
              "  <div id=\"df-3d88f35a-e333-4a39-9344-0e1544613db8\">\n",
              "    <div class=\"colab-df-container\">\n",
              "      <div>\n",
              "<style scoped>\n",
              "    .dataframe tbody tr th:only-of-type {\n",
              "        vertical-align: middle;\n",
              "    }\n",
              "\n",
              "    .dataframe tbody tr th {\n",
              "        vertical-align: top;\n",
              "    }\n",
              "\n",
              "    .dataframe thead th {\n",
              "        text-align: right;\n",
              "    }\n",
              "</style>\n",
              "<table border=\"1\" class=\"dataframe\">\n",
              "  <thead>\n",
              "    <tr style=\"text-align: right;\">\n",
              "      <th></th>\n",
              "      <th>spouse</th>\n",
              "      <th>dependents</th>\n",
              "      <th>landline</th>\n",
              "      <th>online_payment</th>\n",
              "      <th>churn</th>\n",
              "    </tr>\n",
              "  </thead>\n",
              "  <tbody>\n",
              "    <tr>\n",
              "      <th>0</th>\n",
              "      <td>1</td>\n",
              "      <td>0</td>\n",
              "      <td>0</td>\n",
              "      <td>1</td>\n",
              "      <td>0</td>\n",
              "    </tr>\n",
              "    <tr>\n",
              "      <th>1</th>\n",
              "      <td>0</td>\n",
              "      <td>0</td>\n",
              "      <td>1</td>\n",
              "      <td>0</td>\n",
              "      <td>0</td>\n",
              "    </tr>\n",
              "    <tr>\n",
              "      <th>2</th>\n",
              "      <td>0</td>\n",
              "      <td>0</td>\n",
              "      <td>1</td>\n",
              "      <td>1</td>\n",
              "      <td>1</td>\n",
              "    </tr>\n",
              "    <tr>\n",
              "      <th>3</th>\n",
              "      <td>0</td>\n",
              "      <td>0</td>\n",
              "      <td>0</td>\n",
              "      <td>0</td>\n",
              "      <td>0</td>\n",
              "    </tr>\n",
              "    <tr>\n",
              "      <th>4</th>\n",
              "      <td>0</td>\n",
              "      <td>0</td>\n",
              "      <td>1</td>\n",
              "      <td>1</td>\n",
              "      <td>1</td>\n",
              "    </tr>\n",
              "  </tbody>\n",
              "</table>\n",
              "</div>\n",
              "      <button class=\"colab-df-convert\" onclick=\"convertToInteractive('df-3d88f35a-e333-4a39-9344-0e1544613db8')\"\n",
              "              title=\"Convert this dataframe to an interactive table.\"\n",
              "              style=\"display:none;\">\n",
              "        \n",
              "  <svg xmlns=\"http://www.w3.org/2000/svg\" height=\"24px\"viewBox=\"0 0 24 24\"\n",
              "       width=\"24px\">\n",
              "    <path d=\"M0 0h24v24H0V0z\" fill=\"none\"/>\n",
              "    <path d=\"M18.56 5.44l.94 2.06.94-2.06 2.06-.94-2.06-.94-.94-2.06-.94 2.06-2.06.94zm-11 1L8.5 8.5l.94-2.06 2.06-.94-2.06-.94L8.5 2.5l-.94 2.06-2.06.94zm10 10l.94 2.06.94-2.06 2.06-.94-2.06-.94-.94-2.06-.94 2.06-2.06.94z\"/><path d=\"M17.41 7.96l-1.37-1.37c-.4-.4-.92-.59-1.43-.59-.52 0-1.04.2-1.43.59L10.3 9.45l-7.72 7.72c-.78.78-.78 2.05 0 2.83L4 21.41c.39.39.9.59 1.41.59.51 0 1.02-.2 1.41-.59l7.78-7.78 2.81-2.81c.8-.78.8-2.07 0-2.86zM5.41 20L4 18.59l7.72-7.72 1.47 1.35L5.41 20z\"/>\n",
              "  </svg>\n",
              "      </button>\n",
              "      \n",
              "  <style>\n",
              "    .colab-df-container {\n",
              "      display:flex;\n",
              "      flex-wrap:wrap;\n",
              "      gap: 12px;\n",
              "    }\n",
              "\n",
              "    .colab-df-convert {\n",
              "      background-color: #E8F0FE;\n",
              "      border: none;\n",
              "      border-radius: 50%;\n",
              "      cursor: pointer;\n",
              "      display: none;\n",
              "      fill: #1967D2;\n",
              "      height: 32px;\n",
              "      padding: 0 0 0 0;\n",
              "      width: 32px;\n",
              "    }\n",
              "\n",
              "    .colab-df-convert:hover {\n",
              "      background-color: #E2EBFA;\n",
              "      box-shadow: 0px 1px 2px rgba(60, 64, 67, 0.3), 0px 1px 3px 1px rgba(60, 64, 67, 0.15);\n",
              "      fill: #174EA6;\n",
              "    }\n",
              "\n",
              "    [theme=dark] .colab-df-convert {\n",
              "      background-color: #3B4455;\n",
              "      fill: #D2E3FC;\n",
              "    }\n",
              "\n",
              "    [theme=dark] .colab-df-convert:hover {\n",
              "      background-color: #434B5C;\n",
              "      box-shadow: 0px 1px 3px 1px rgba(0, 0, 0, 0.15);\n",
              "      filter: drop-shadow(0px 1px 2px rgba(0, 0, 0, 0.3));\n",
              "      fill: #FFFFFF;\n",
              "    }\n",
              "  </style>\n",
              "\n",
              "      <script>\n",
              "        const buttonEl =\n",
              "          document.querySelector('#df-3d88f35a-e333-4a39-9344-0e1544613db8 button.colab-df-convert');\n",
              "        buttonEl.style.display =\n",
              "          google.colab.kernel.accessAllowed ? 'block' : 'none';\n",
              "\n",
              "        async function convertToInteractive(key) {\n",
              "          const element = document.querySelector('#df-3d88f35a-e333-4a39-9344-0e1544613db8');\n",
              "          const dataTable =\n",
              "            await google.colab.kernel.invokeFunction('convertToInteractive',\n",
              "                                                     [key], {});\n",
              "          if (!dataTable) return;\n",
              "\n",
              "          const docLinkHtml = 'Like what you see? Visit the ' +\n",
              "            '<a target=\"_blank\" href=https://colab.research.google.com/notebooks/data_table.ipynb>data table notebook</a>'\n",
              "            + ' to learn more about interactive tables.';\n",
              "          element.innerHTML = '';\n",
              "          dataTable['output_type'] = 'display_data';\n",
              "          await google.colab.output.renderOutput(dataTable, element);\n",
              "          const docLink = document.createElement('div');\n",
              "          docLink.innerHTML = docLinkHtml;\n",
              "          element.appendChild(docLink);\n",
              "        }\n",
              "      </script>\n",
              "    </div>\n",
              "  </div>\n",
              "  "
            ]
          },
          "metadata": {},
          "execution_count": 7
        }
      ]
    },
    {
      "cell_type": "code",
      "source": [
        "# modifying using get_dummies\n",
        "dummie_data = pd.get_dummies(data.drop(['spouse', 'dependents', 'landline', \n",
        "                                         'online_payment', 'churn'], axis=1))\n",
        "\n",
        "#merge the transformed data with what we already had\n",
        "final_data = pd.concat([modified_data, dummie_data], axis=1)"
      ],
      "metadata": {
        "id": "eAgpNAkQ5lsa"
      },
      "execution_count": 8,
      "outputs": []
    },
    {
      "cell_type": "code",
      "source": [
        "final_data.head()"
      ],
      "metadata": {
        "colab": {
          "base_uri": "https://localhost:8080/",
          "height": 300
        },
        "id": "o53Lxg806nmv",
        "outputId": "d084e256-ae4b-491c-a15b-65e34cdfe8b6"
      },
      "execution_count": 9,
      "outputs": [
        {
          "output_type": "execute_result",
          "data": {
            "text/plain": [
              "   spouse  dependents  landline  online_payment  churn  over_65  \\\n",
              "0       1           0         0               1      0        0   \n",
              "1       0           0         1               0      0        0   \n",
              "2       0           0         1               1      1        0   \n",
              "3       0           0         0               0      0        0   \n",
              "4       0           0         1               1      1        0   \n",
              "\n",
              "   contract_months  monthly_bill  several_line_phones_no  \\\n",
              "0                1         29.85                       0   \n",
              "1               34         56.95                       1   \n",
              "2                2         53.85                       1   \n",
              "3               45         42.30                       0   \n",
              "4                2         70.70                       1   \n",
              "\n",
              "   several_line_phones_no_phone_service  ...  cable_tv_yes  \\\n",
              "0                                     1  ...             0   \n",
              "1                                     0  ...             0   \n",
              "2                                     0  ...             0   \n",
              "3                                     1  ...             0   \n",
              "4                                     0  ...             0   \n",
              "\n",
              "   streaming_movies_no  streaming_movies_yes  type_of_contract_monthly  \\\n",
              "0                    1                     0                         1   \n",
              "1                    1                     0                         0   \n",
              "2                    1                     0                         1   \n",
              "3                    1                     0                         0   \n",
              "4                    1                     0                         1   \n",
              "\n",
              "   type_of_contract_one_year  type_of_contract_two_years  \\\n",
              "0                          0                           0   \n",
              "1                          1                           0   \n",
              "2                          0                           0   \n",
              "3                          1                           0   \n",
              "4                          0                           0   \n",
              "\n",
              "   payment_method_account_debit  payment_method_credit_card  \\\n",
              "0                             0                           0   \n",
              "1                             0                           0   \n",
              "2                             0                           0   \n",
              "3                             1                           0   \n",
              "4                             0                           0   \n",
              "\n",
              "   payment_method_digital_check  payment_method_paper_check  \n",
              "0                             1                           0  \n",
              "1                             0                           1  \n",
              "2                             0                           1  \n",
              "3                             0                           0  \n",
              "4                             1                           0  \n",
              "\n",
              "[5 rows x 33 columns]"
            ],
            "text/html": [
              "\n",
              "  <div id=\"df-2d4d0a2e-2815-419e-b2ff-eac77162bb5e\">\n",
              "    <div class=\"colab-df-container\">\n",
              "      <div>\n",
              "<style scoped>\n",
              "    .dataframe tbody tr th:only-of-type {\n",
              "        vertical-align: middle;\n",
              "    }\n",
              "\n",
              "    .dataframe tbody tr th {\n",
              "        vertical-align: top;\n",
              "    }\n",
              "\n",
              "    .dataframe thead th {\n",
              "        text-align: right;\n",
              "    }\n",
              "</style>\n",
              "<table border=\"1\" class=\"dataframe\">\n",
              "  <thead>\n",
              "    <tr style=\"text-align: right;\">\n",
              "      <th></th>\n",
              "      <th>spouse</th>\n",
              "      <th>dependents</th>\n",
              "      <th>landline</th>\n",
              "      <th>online_payment</th>\n",
              "      <th>churn</th>\n",
              "      <th>over_65</th>\n",
              "      <th>contract_months</th>\n",
              "      <th>monthly_bill</th>\n",
              "      <th>several_line_phones_no</th>\n",
              "      <th>several_line_phones_no_phone_service</th>\n",
              "      <th>...</th>\n",
              "      <th>cable_tv_yes</th>\n",
              "      <th>streaming_movies_no</th>\n",
              "      <th>streaming_movies_yes</th>\n",
              "      <th>type_of_contract_monthly</th>\n",
              "      <th>type_of_contract_one_year</th>\n",
              "      <th>type_of_contract_two_years</th>\n",
              "      <th>payment_method_account_debit</th>\n",
              "      <th>payment_method_credit_card</th>\n",
              "      <th>payment_method_digital_check</th>\n",
              "      <th>payment_method_paper_check</th>\n",
              "    </tr>\n",
              "  </thead>\n",
              "  <tbody>\n",
              "    <tr>\n",
              "      <th>0</th>\n",
              "      <td>1</td>\n",
              "      <td>0</td>\n",
              "      <td>0</td>\n",
              "      <td>1</td>\n",
              "      <td>0</td>\n",
              "      <td>0</td>\n",
              "      <td>1</td>\n",
              "      <td>29.85</td>\n",
              "      <td>0</td>\n",
              "      <td>1</td>\n",
              "      <td>...</td>\n",
              "      <td>0</td>\n",
              "      <td>1</td>\n",
              "      <td>0</td>\n",
              "      <td>1</td>\n",
              "      <td>0</td>\n",
              "      <td>0</td>\n",
              "      <td>0</td>\n",
              "      <td>0</td>\n",
              "      <td>1</td>\n",
              "      <td>0</td>\n",
              "    </tr>\n",
              "    <tr>\n",
              "      <th>1</th>\n",
              "      <td>0</td>\n",
              "      <td>0</td>\n",
              "      <td>1</td>\n",
              "      <td>0</td>\n",
              "      <td>0</td>\n",
              "      <td>0</td>\n",
              "      <td>34</td>\n",
              "      <td>56.95</td>\n",
              "      <td>1</td>\n",
              "      <td>0</td>\n",
              "      <td>...</td>\n",
              "      <td>0</td>\n",
              "      <td>1</td>\n",
              "      <td>0</td>\n",
              "      <td>0</td>\n",
              "      <td>1</td>\n",
              "      <td>0</td>\n",
              "      <td>0</td>\n",
              "      <td>0</td>\n",
              "      <td>0</td>\n",
              "      <td>1</td>\n",
              "    </tr>\n",
              "    <tr>\n",
              "      <th>2</th>\n",
              "      <td>0</td>\n",
              "      <td>0</td>\n",
              "      <td>1</td>\n",
              "      <td>1</td>\n",
              "      <td>1</td>\n",
              "      <td>0</td>\n",
              "      <td>2</td>\n",
              "      <td>53.85</td>\n",
              "      <td>1</td>\n",
              "      <td>0</td>\n",
              "      <td>...</td>\n",
              "      <td>0</td>\n",
              "      <td>1</td>\n",
              "      <td>0</td>\n",
              "      <td>1</td>\n",
              "      <td>0</td>\n",
              "      <td>0</td>\n",
              "      <td>0</td>\n",
              "      <td>0</td>\n",
              "      <td>0</td>\n",
              "      <td>1</td>\n",
              "    </tr>\n",
              "    <tr>\n",
              "      <th>3</th>\n",
              "      <td>0</td>\n",
              "      <td>0</td>\n",
              "      <td>0</td>\n",
              "      <td>0</td>\n",
              "      <td>0</td>\n",
              "      <td>0</td>\n",
              "      <td>45</td>\n",
              "      <td>42.30</td>\n",
              "      <td>0</td>\n",
              "      <td>1</td>\n",
              "      <td>...</td>\n",
              "      <td>0</td>\n",
              "      <td>1</td>\n",
              "      <td>0</td>\n",
              "      <td>0</td>\n",
              "      <td>1</td>\n",
              "      <td>0</td>\n",
              "      <td>1</td>\n",
              "      <td>0</td>\n",
              "      <td>0</td>\n",
              "      <td>0</td>\n",
              "    </tr>\n",
              "    <tr>\n",
              "      <th>4</th>\n",
              "      <td>0</td>\n",
              "      <td>0</td>\n",
              "      <td>1</td>\n",
              "      <td>1</td>\n",
              "      <td>1</td>\n",
              "      <td>0</td>\n",
              "      <td>2</td>\n",
              "      <td>70.70</td>\n",
              "      <td>1</td>\n",
              "      <td>0</td>\n",
              "      <td>...</td>\n",
              "      <td>0</td>\n",
              "      <td>1</td>\n",
              "      <td>0</td>\n",
              "      <td>1</td>\n",
              "      <td>0</td>\n",
              "      <td>0</td>\n",
              "      <td>0</td>\n",
              "      <td>0</td>\n",
              "      <td>1</td>\n",
              "      <td>0</td>\n",
              "    </tr>\n",
              "  </tbody>\n",
              "</table>\n",
              "<p>5 rows × 33 columns</p>\n",
              "</div>\n",
              "      <button class=\"colab-df-convert\" onclick=\"convertToInteractive('df-2d4d0a2e-2815-419e-b2ff-eac77162bb5e')\"\n",
              "              title=\"Convert this dataframe to an interactive table.\"\n",
              "              style=\"display:none;\">\n",
              "        \n",
              "  <svg xmlns=\"http://www.w3.org/2000/svg\" height=\"24px\"viewBox=\"0 0 24 24\"\n",
              "       width=\"24px\">\n",
              "    <path d=\"M0 0h24v24H0V0z\" fill=\"none\"/>\n",
              "    <path d=\"M18.56 5.44l.94 2.06.94-2.06 2.06-.94-2.06-.94-.94-2.06-.94 2.06-2.06.94zm-11 1L8.5 8.5l.94-2.06 2.06-.94-2.06-.94L8.5 2.5l-.94 2.06-2.06.94zm10 10l.94 2.06.94-2.06 2.06-.94-2.06-.94-.94-2.06-.94 2.06-2.06.94z\"/><path d=\"M17.41 7.96l-1.37-1.37c-.4-.4-.92-.59-1.43-.59-.52 0-1.04.2-1.43.59L10.3 9.45l-7.72 7.72c-.78.78-.78 2.05 0 2.83L4 21.41c.39.39.9.59 1.41.59.51 0 1.02-.2 1.41-.59l7.78-7.78 2.81-2.81c.8-.78.8-2.07 0-2.86zM5.41 20L4 18.59l7.72-7.72 1.47 1.35L5.41 20z\"/>\n",
              "  </svg>\n",
              "      </button>\n",
              "      \n",
              "  <style>\n",
              "    .colab-df-container {\n",
              "      display:flex;\n",
              "      flex-wrap:wrap;\n",
              "      gap: 12px;\n",
              "    }\n",
              "\n",
              "    .colab-df-convert {\n",
              "      background-color: #E8F0FE;\n",
              "      border: none;\n",
              "      border-radius: 50%;\n",
              "      cursor: pointer;\n",
              "      display: none;\n",
              "      fill: #1967D2;\n",
              "      height: 32px;\n",
              "      padding: 0 0 0 0;\n",
              "      width: 32px;\n",
              "    }\n",
              "\n",
              "    .colab-df-convert:hover {\n",
              "      background-color: #E2EBFA;\n",
              "      box-shadow: 0px 1px 2px rgba(60, 64, 67, 0.3), 0px 1px 3px 1px rgba(60, 64, 67, 0.15);\n",
              "      fill: #174EA6;\n",
              "    }\n",
              "\n",
              "    [theme=dark] .colab-df-convert {\n",
              "      background-color: #3B4455;\n",
              "      fill: #D2E3FC;\n",
              "    }\n",
              "\n",
              "    [theme=dark] .colab-df-convert:hover {\n",
              "      background-color: #434B5C;\n",
              "      box-shadow: 0px 1px 3px 1px rgba(0, 0, 0, 0.15);\n",
              "      filter: drop-shadow(0px 1px 2px rgba(0, 0, 0, 0.3));\n",
              "      fill: #FFFFFF;\n",
              "    }\n",
              "  </style>\n",
              "\n",
              "      <script>\n",
              "        const buttonEl =\n",
              "          document.querySelector('#df-2d4d0a2e-2815-419e-b2ff-eac77162bb5e button.colab-df-convert');\n",
              "        buttonEl.style.display =\n",
              "          google.colab.kernel.accessAllowed ? 'block' : 'none';\n",
              "\n",
              "        async function convertToInteractive(key) {\n",
              "          const element = document.querySelector('#df-2d4d0a2e-2815-419e-b2ff-eac77162bb5e');\n",
              "          const dataTable =\n",
              "            await google.colab.kernel.invokeFunction('convertToInteractive',\n",
              "                                                     [key], {});\n",
              "          if (!dataTable) return;\n",
              "\n",
              "          const docLinkHtml = 'Like what you see? Visit the ' +\n",
              "            '<a target=\"_blank\" href=https://colab.research.google.com/notebooks/data_table.ipynb>data table notebook</a>'\n",
              "            + ' to learn more about interactive tables.';\n",
              "          element.innerHTML = '';\n",
              "          dataTable['output_type'] = 'display_data';\n",
              "          await google.colab.output.renderOutput(dataTable, element);\n",
              "          const docLink = document.createElement('div');\n",
              "          docLink.innerHTML = docLinkHtml;\n",
              "          element.appendChild(docLink);\n",
              "        }\n",
              "      </script>\n",
              "    </div>\n",
              "  </div>\n",
              "  "
            ]
          },
          "metadata": {},
          "execution_count": 9
        }
      ]
    },
    {
      "cell_type": "code",
      "source": [
        "final_data.shape"
      ],
      "metadata": {
        "colab": {
          "base_uri": "https://localhost:8080/"
        },
        "id": "SZHDqBFt6xGK",
        "outputId": "e391cfbd-4b66-4d0a-d9e1-92b8938b80b7"
      },
      "execution_count": 10,
      "outputs": [
        {
          "output_type": "execute_result",
          "data": {
            "text/plain": [
              "(7043, 33)"
            ]
          },
          "metadata": {},
          "execution_count": 10
        }
      ]
    },
    {
      "cell_type": "markdown",
      "source": [
        "# Formal Definition\n",
        "Informations to classification\n",
        "\n",
        "$X$ = inputs\n",
        "\n",
        "$y$ = outputs"
      ],
      "metadata": {
        "id": "4a9z5pF879Pm"
      }
    },
    {
      "cell_type": "code",
      "source": [
        "pd.set_option('display.max_columns', 39)"
      ],
      "metadata": {
        "id": "u_8NWXwN64-r"
      },
      "execution_count": 11,
      "outputs": []
    },
    {
      "cell_type": "code",
      "source": [
        "final_data.head()"
      ],
      "metadata": {
        "id": "fApUqI9q8VwO",
        "colab": {
          "base_uri": "https://localhost:8080/",
          "height": 270
        },
        "outputId": "0ce9d825-7c10-40fe-932f-41c4620e0bf5"
      },
      "execution_count": 12,
      "outputs": [
        {
          "output_type": "execute_result",
          "data": {
            "text/plain": [
              "   spouse  dependents  landline  online_payment  churn  over_65  \\\n",
              "0       1           0         0               1      0        0   \n",
              "1       0           0         1               0      0        0   \n",
              "2       0           0         1               1      1        0   \n",
              "3       0           0         0               0      0        0   \n",
              "4       0           0         1               1      1        0   \n",
              "\n",
              "   contract_months  monthly_bill  several_line_phones_no  \\\n",
              "0                1         29.85                       0   \n",
              "1               34         56.95                       1   \n",
              "2                2         53.85                       1   \n",
              "3               45         42.30                       0   \n",
              "4                2         70.70                       1   \n",
              "\n",
              "   several_line_phones_no_phone_service  several_line_phones_yes  \\\n",
              "0                                     1                        0   \n",
              "1                                     0                        0   \n",
              "2                                     0                        0   \n",
              "3                                     1                        0   \n",
              "4                                     0                        0   \n",
              "\n",
              "   internet_service_DSL  internet_service_no  internet_service_optic_fiber  \\\n",
              "0                     1                    0                             0   \n",
              "1                     1                    0                             0   \n",
              "2                     1                    0                             0   \n",
              "3                     1                    0                             0   \n",
              "4                     0                    0                             1   \n",
              "\n",
              "   online_security_no  online_security_yes  online_backup_no  \\\n",
              "0                   1                    0                 0   \n",
              "1                   0                    1                 1   \n",
              "2                   0                    1                 0   \n",
              "3                   0                    1                 1   \n",
              "4                   1                    0                 1   \n",
              "\n",
              "   online_backup_yes  insurance_on_device_no  insurance_on_device_yes  \\\n",
              "0                  1                       1                        0   \n",
              "1                  0                       0                        1   \n",
              "2                  1                       1                        0   \n",
              "3                  0                       0                        1   \n",
              "4                  0                       1                        0   \n",
              "\n",
              "   tecnical_support_no  tecnical_support_yes  cable_tv_no  cable_tv_yes  \\\n",
              "0                    1                     0            1             0   \n",
              "1                    1                     0            1             0   \n",
              "2                    1                     0            1             0   \n",
              "3                    0                     1            1             0   \n",
              "4                    1                     0            1             0   \n",
              "\n",
              "   streaming_movies_no  streaming_movies_yes  type_of_contract_monthly  \\\n",
              "0                    1                     0                         1   \n",
              "1                    1                     0                         0   \n",
              "2                    1                     0                         1   \n",
              "3                    1                     0                         0   \n",
              "4                    1                     0                         1   \n",
              "\n",
              "   type_of_contract_one_year  type_of_contract_two_years  \\\n",
              "0                          0                           0   \n",
              "1                          1                           0   \n",
              "2                          0                           0   \n",
              "3                          1                           0   \n",
              "4                          0                           0   \n",
              "\n",
              "   payment_method_account_debit  payment_method_credit_card  \\\n",
              "0                             0                           0   \n",
              "1                             0                           0   \n",
              "2                             0                           0   \n",
              "3                             1                           0   \n",
              "4                             0                           0   \n",
              "\n",
              "   payment_method_digital_check  payment_method_paper_check  \n",
              "0                             1                           0  \n",
              "1                             0                           1  \n",
              "2                             0                           1  \n",
              "3                             0                           0  \n",
              "4                             1                           0  "
            ],
            "text/html": [
              "\n",
              "  <div id=\"df-c212ef2b-7bfa-431b-afa2-f5d666a25bfc\">\n",
              "    <div class=\"colab-df-container\">\n",
              "      <div>\n",
              "<style scoped>\n",
              "    .dataframe tbody tr th:only-of-type {\n",
              "        vertical-align: middle;\n",
              "    }\n",
              "\n",
              "    .dataframe tbody tr th {\n",
              "        vertical-align: top;\n",
              "    }\n",
              "\n",
              "    .dataframe thead th {\n",
              "        text-align: right;\n",
              "    }\n",
              "</style>\n",
              "<table border=\"1\" class=\"dataframe\">\n",
              "  <thead>\n",
              "    <tr style=\"text-align: right;\">\n",
              "      <th></th>\n",
              "      <th>spouse</th>\n",
              "      <th>dependents</th>\n",
              "      <th>landline</th>\n",
              "      <th>online_payment</th>\n",
              "      <th>churn</th>\n",
              "      <th>over_65</th>\n",
              "      <th>contract_months</th>\n",
              "      <th>monthly_bill</th>\n",
              "      <th>several_line_phones_no</th>\n",
              "      <th>several_line_phones_no_phone_service</th>\n",
              "      <th>several_line_phones_yes</th>\n",
              "      <th>internet_service_DSL</th>\n",
              "      <th>internet_service_no</th>\n",
              "      <th>internet_service_optic_fiber</th>\n",
              "      <th>online_security_no</th>\n",
              "      <th>online_security_yes</th>\n",
              "      <th>online_backup_no</th>\n",
              "      <th>online_backup_yes</th>\n",
              "      <th>insurance_on_device_no</th>\n",
              "      <th>insurance_on_device_yes</th>\n",
              "      <th>tecnical_support_no</th>\n",
              "      <th>tecnical_support_yes</th>\n",
              "      <th>cable_tv_no</th>\n",
              "      <th>cable_tv_yes</th>\n",
              "      <th>streaming_movies_no</th>\n",
              "      <th>streaming_movies_yes</th>\n",
              "      <th>type_of_contract_monthly</th>\n",
              "      <th>type_of_contract_one_year</th>\n",
              "      <th>type_of_contract_two_years</th>\n",
              "      <th>payment_method_account_debit</th>\n",
              "      <th>payment_method_credit_card</th>\n",
              "      <th>payment_method_digital_check</th>\n",
              "      <th>payment_method_paper_check</th>\n",
              "    </tr>\n",
              "  </thead>\n",
              "  <tbody>\n",
              "    <tr>\n",
              "      <th>0</th>\n",
              "      <td>1</td>\n",
              "      <td>0</td>\n",
              "      <td>0</td>\n",
              "      <td>1</td>\n",
              "      <td>0</td>\n",
              "      <td>0</td>\n",
              "      <td>1</td>\n",
              "      <td>29.85</td>\n",
              "      <td>0</td>\n",
              "      <td>1</td>\n",
              "      <td>0</td>\n",
              "      <td>1</td>\n",
              "      <td>0</td>\n",
              "      <td>0</td>\n",
              "      <td>1</td>\n",
              "      <td>0</td>\n",
              "      <td>0</td>\n",
              "      <td>1</td>\n",
              "      <td>1</td>\n",
              "      <td>0</td>\n",
              "      <td>1</td>\n",
              "      <td>0</td>\n",
              "      <td>1</td>\n",
              "      <td>0</td>\n",
              "      <td>1</td>\n",
              "      <td>0</td>\n",
              "      <td>1</td>\n",
              "      <td>0</td>\n",
              "      <td>0</td>\n",
              "      <td>0</td>\n",
              "      <td>0</td>\n",
              "      <td>1</td>\n",
              "      <td>0</td>\n",
              "    </tr>\n",
              "    <tr>\n",
              "      <th>1</th>\n",
              "      <td>0</td>\n",
              "      <td>0</td>\n",
              "      <td>1</td>\n",
              "      <td>0</td>\n",
              "      <td>0</td>\n",
              "      <td>0</td>\n",
              "      <td>34</td>\n",
              "      <td>56.95</td>\n",
              "      <td>1</td>\n",
              "      <td>0</td>\n",
              "      <td>0</td>\n",
              "      <td>1</td>\n",
              "      <td>0</td>\n",
              "      <td>0</td>\n",
              "      <td>0</td>\n",
              "      <td>1</td>\n",
              "      <td>1</td>\n",
              "      <td>0</td>\n",
              "      <td>0</td>\n",
              "      <td>1</td>\n",
              "      <td>1</td>\n",
              "      <td>0</td>\n",
              "      <td>1</td>\n",
              "      <td>0</td>\n",
              "      <td>1</td>\n",
              "      <td>0</td>\n",
              "      <td>0</td>\n",
              "      <td>1</td>\n",
              "      <td>0</td>\n",
              "      <td>0</td>\n",
              "      <td>0</td>\n",
              "      <td>0</td>\n",
              "      <td>1</td>\n",
              "    </tr>\n",
              "    <tr>\n",
              "      <th>2</th>\n",
              "      <td>0</td>\n",
              "      <td>0</td>\n",
              "      <td>1</td>\n",
              "      <td>1</td>\n",
              "      <td>1</td>\n",
              "      <td>0</td>\n",
              "      <td>2</td>\n",
              "      <td>53.85</td>\n",
              "      <td>1</td>\n",
              "      <td>0</td>\n",
              "      <td>0</td>\n",
              "      <td>1</td>\n",
              "      <td>0</td>\n",
              "      <td>0</td>\n",
              "      <td>0</td>\n",
              "      <td>1</td>\n",
              "      <td>0</td>\n",
              "      <td>1</td>\n",
              "      <td>1</td>\n",
              "      <td>0</td>\n",
              "      <td>1</td>\n",
              "      <td>0</td>\n",
              "      <td>1</td>\n",
              "      <td>0</td>\n",
              "      <td>1</td>\n",
              "      <td>0</td>\n",
              "      <td>1</td>\n",
              "      <td>0</td>\n",
              "      <td>0</td>\n",
              "      <td>0</td>\n",
              "      <td>0</td>\n",
              "      <td>0</td>\n",
              "      <td>1</td>\n",
              "    </tr>\n",
              "    <tr>\n",
              "      <th>3</th>\n",
              "      <td>0</td>\n",
              "      <td>0</td>\n",
              "      <td>0</td>\n",
              "      <td>0</td>\n",
              "      <td>0</td>\n",
              "      <td>0</td>\n",
              "      <td>45</td>\n",
              "      <td>42.30</td>\n",
              "      <td>0</td>\n",
              "      <td>1</td>\n",
              "      <td>0</td>\n",
              "      <td>1</td>\n",
              "      <td>0</td>\n",
              "      <td>0</td>\n",
              "      <td>0</td>\n",
              "      <td>1</td>\n",
              "      <td>1</td>\n",
              "      <td>0</td>\n",
              "      <td>0</td>\n",
              "      <td>1</td>\n",
              "      <td>0</td>\n",
              "      <td>1</td>\n",
              "      <td>1</td>\n",
              "      <td>0</td>\n",
              "      <td>1</td>\n",
              "      <td>0</td>\n",
              "      <td>0</td>\n",
              "      <td>1</td>\n",
              "      <td>0</td>\n",
              "      <td>1</td>\n",
              "      <td>0</td>\n",
              "      <td>0</td>\n",
              "      <td>0</td>\n",
              "    </tr>\n",
              "    <tr>\n",
              "      <th>4</th>\n",
              "      <td>0</td>\n",
              "      <td>0</td>\n",
              "      <td>1</td>\n",
              "      <td>1</td>\n",
              "      <td>1</td>\n",
              "      <td>0</td>\n",
              "      <td>2</td>\n",
              "      <td>70.70</td>\n",
              "      <td>1</td>\n",
              "      <td>0</td>\n",
              "      <td>0</td>\n",
              "      <td>0</td>\n",
              "      <td>0</td>\n",
              "      <td>1</td>\n",
              "      <td>1</td>\n",
              "      <td>0</td>\n",
              "      <td>1</td>\n",
              "      <td>0</td>\n",
              "      <td>1</td>\n",
              "      <td>0</td>\n",
              "      <td>1</td>\n",
              "      <td>0</td>\n",
              "      <td>1</td>\n",
              "      <td>0</td>\n",
              "      <td>1</td>\n",
              "      <td>0</td>\n",
              "      <td>1</td>\n",
              "      <td>0</td>\n",
              "      <td>0</td>\n",
              "      <td>0</td>\n",
              "      <td>0</td>\n",
              "      <td>1</td>\n",
              "      <td>0</td>\n",
              "    </tr>\n",
              "  </tbody>\n",
              "</table>\n",
              "</div>\n",
              "      <button class=\"colab-df-convert\" onclick=\"convertToInteractive('df-c212ef2b-7bfa-431b-afa2-f5d666a25bfc')\"\n",
              "              title=\"Convert this dataframe to an interactive table.\"\n",
              "              style=\"display:none;\">\n",
              "        \n",
              "  <svg xmlns=\"http://www.w3.org/2000/svg\" height=\"24px\"viewBox=\"0 0 24 24\"\n",
              "       width=\"24px\">\n",
              "    <path d=\"M0 0h24v24H0V0z\" fill=\"none\"/>\n",
              "    <path d=\"M18.56 5.44l.94 2.06.94-2.06 2.06-.94-2.06-.94-.94-2.06-.94 2.06-2.06.94zm-11 1L8.5 8.5l.94-2.06 2.06-.94-2.06-.94L8.5 2.5l-.94 2.06-2.06.94zm10 10l.94 2.06.94-2.06 2.06-.94-2.06-.94-.94-2.06-.94 2.06-2.06.94z\"/><path d=\"M17.41 7.96l-1.37-1.37c-.4-.4-.92-.59-1.43-.59-.52 0-1.04.2-1.43.59L10.3 9.45l-7.72 7.72c-.78.78-.78 2.05 0 2.83L4 21.41c.39.39.9.59 1.41.59.51 0 1.02-.2 1.41-.59l7.78-7.78 2.81-2.81c.8-.78.8-2.07 0-2.86zM5.41 20L4 18.59l7.72-7.72 1.47 1.35L5.41 20z\"/>\n",
              "  </svg>\n",
              "      </button>\n",
              "      \n",
              "  <style>\n",
              "    .colab-df-container {\n",
              "      display:flex;\n",
              "      flex-wrap:wrap;\n",
              "      gap: 12px;\n",
              "    }\n",
              "\n",
              "    .colab-df-convert {\n",
              "      background-color: #E8F0FE;\n",
              "      border: none;\n",
              "      border-radius: 50%;\n",
              "      cursor: pointer;\n",
              "      display: none;\n",
              "      fill: #1967D2;\n",
              "      height: 32px;\n",
              "      padding: 0 0 0 0;\n",
              "      width: 32px;\n",
              "    }\n",
              "\n",
              "    .colab-df-convert:hover {\n",
              "      background-color: #E2EBFA;\n",
              "      box-shadow: 0px 1px 2px rgba(60, 64, 67, 0.3), 0px 1px 3px 1px rgba(60, 64, 67, 0.15);\n",
              "      fill: #174EA6;\n",
              "    }\n",
              "\n",
              "    [theme=dark] .colab-df-convert {\n",
              "      background-color: #3B4455;\n",
              "      fill: #D2E3FC;\n",
              "    }\n",
              "\n",
              "    [theme=dark] .colab-df-convert:hover {\n",
              "      background-color: #434B5C;\n",
              "      box-shadow: 0px 1px 3px 1px rgba(0, 0, 0, 0.15);\n",
              "      filter: drop-shadow(0px 1px 2px rgba(0, 0, 0, 0.3));\n",
              "      fill: #FFFFFF;\n",
              "    }\n",
              "  </style>\n",
              "\n",
              "      <script>\n",
              "        const buttonEl =\n",
              "          document.querySelector('#df-c212ef2b-7bfa-431b-afa2-f5d666a25bfc button.colab-df-convert');\n",
              "        buttonEl.style.display =\n",
              "          google.colab.kernel.accessAllowed ? 'block' : 'none';\n",
              "\n",
              "        async function convertToInteractive(key) {\n",
              "          const element = document.querySelector('#df-c212ef2b-7bfa-431b-afa2-f5d666a25bfc');\n",
              "          const dataTable =\n",
              "            await google.colab.kernel.invokeFunction('convertToInteractive',\n",
              "                                                     [key], {});\n",
              "          if (!dataTable) return;\n",
              "\n",
              "          const docLinkHtml = 'Like what you see? Visit the ' +\n",
              "            '<a target=\"_blank\" href=https://colab.research.google.com/notebooks/data_table.ipynb>data table notebook</a>'\n",
              "            + ' to learn more about interactive tables.';\n",
              "          element.innerHTML = '';\n",
              "          dataTable['output_type'] = 'display_data';\n",
              "          await google.colab.output.renderOutput(dataTable, element);\n",
              "          const docLink = document.createElement('div');\n",
              "          docLink.innerHTML = docLinkHtml;\n",
              "          element.appendChild(docLink);\n",
              "        }\n",
              "      </script>\n",
              "    </div>\n",
              "  </div>\n",
              "  "
            ]
          },
          "metadata": {},
          "execution_count": 12
        }
      ]
    },
    {
      "cell_type": "markdown",
      "source": [
        "$y_i = f(x_i)$"
      ],
      "metadata": {
        "id": "sLxO_QPd8iFu"
      }
    },
    {
      "cell_type": "code",
      "source": [
        "X_maria = [[0,0,1,1,0,0,39.90,1,0,0,0,1,0,1,0,0,0,0,1,1,1,0,0,1,1,0,0,1,0,0,0,1]]"
      ],
      "metadata": {
        "id": "B6YJCf7Q8kTD"
      },
      "execution_count": 13,
      "outputs": []
    },
    {
      "cell_type": "code",
      "source": [
        "# y_maria = ?"
      ],
      "metadata": {
        "id": "78WhH1Tj8oLy"
      },
      "execution_count": 14,
      "outputs": []
    },
    {
      "cell_type": "markdown",
      "source": [
        "New information pairs = (X_maria, y_maria)\n",
        "\n"
      ],
      "metadata": {
        "id": "qdIHOUYw-3HG"
      }
    },
    {
      "cell_type": "markdown",
      "source": [
        "# Data Balance"
      ],
      "metadata": {
        "id": "Fsb_L6YZ_DU9"
      }
    },
    {
      "cell_type": "code",
      "source": [
        "#target variable is unbalanced\n",
        "import seaborn as sns\n",
        "%matplotlib inline \n",
        "ax = sns.countplot(x='churn', data=final_data)"
      ],
      "metadata": {
        "colab": {
          "base_uri": "https://localhost:8080/",
          "height": 279
        },
        "id": "s4c3EmcX_M79",
        "outputId": "df454ca9-ab33-4479-bfef-01ea30d496fa"
      },
      "execution_count": 15,
      "outputs": [
        {
          "output_type": "display_data",
          "data": {
            "text/plain": [
              "<Figure size 432x288 with 1 Axes>"
            ],
            "image/png": "[encoded data removed]"
          },
          "metadata": {
            "needs_background": "light"
          }
        }
      ]
    },
    {
      "cell_type": "code",
      "source": [
        "final_data['churn'].value_counts()"
      ],
      "metadata": {
        "colab": {
          "base_uri": "https://localhost:8080/"
        },
        "id": "ynhMERZ1_bea",
        "outputId": "b5ab5564-dd79-4fdd-86da-5f4d6ea7af58"
      },
      "execution_count": 16,
      "outputs": [
        {
          "output_type": "execute_result",
          "data": {
            "text/plain": [
              "0    5174\n",
              "1    1869\n",
              "Name: churn, dtype: int64"
            ]
          },
          "metadata": {},
          "execution_count": 16
        }
      ]
    },
    {
      "cell_type": "code",
      "source": [
        "#library to balance the data using over_sampling\n",
        "from imblearn.over_sampling import SMOTE"
      ],
      "metadata": {
        "id": "-_9cqrmU_fjJ"
      },
      "execution_count": 17,
      "outputs": []
    },
    {
      "cell_type": "code",
      "source": [
        "#splitting data into features and target\n",
        "X = final_data.drop('churn', axis=1)\n",
        "y = final_data['churn']"
      ],
      "metadata": {
        "id": "CJaDzW8K_mAe"
      },
      "execution_count": 18,
      "outputs": []
    },
    {
      "cell_type": "code",
      "source": [
        "smt = SMOTE(random_state=123) # SMOTE object class\n",
        "X, y = smt.fit_resample(X, y) # Performs resampling of the dataset"
      ],
      "metadata": {
        "id": "6_7wqU1d_r0e"
      },
      "execution_count": 19,
      "outputs": []
    },
    {
      "cell_type": "code",
      "source": [
        "#data balance merge\n",
        "final_data = pd.concat([X, y], axis=1) # Concatenate the target variable (y) with the features (X)"
      ],
      "metadata": {
        "id": "8Tu91Pw5_zAh"
      },
      "execution_count": 20,
      "outputs": []
    },
    {
      "cell_type": "code",
      "source": [
        "# Check that the balance and concatenation are correct.\n",
        "final_data.head(2)"
      ],
      "metadata": {
        "colab": {
          "base_uri": "https://localhost:8080/",
          "height": 176
        },
        "id": "PlgzpxzZ_5ua",
        "outputId": "cedfefaa-80da-4e50-add7-bd63b8d47fae"
      },
      "execution_count": 21,
      "outputs": [
        {
          "output_type": "execute_result",
          "data": {
            "text/plain": [
              "   spouse  dependents  landline  online_payment  over_65  contract_months  \\\n",
              "0       1           0         0               1        0                1   \n",
              "1       0           0         1               0        0               34   \n",
              "\n",
              "   monthly_bill  several_line_phones_no  several_line_phones_no_phone_service  \\\n",
              "0         29.85                       0                                     1   \n",
              "1         56.95                       1                                     0   \n",
              "\n",
              "   several_line_phones_yes  internet_service_DSL  internet_service_no  \\\n",
              "0                        0                     1                    0   \n",
              "1                        0                     1                    0   \n",
              "\n",
              "   internet_service_optic_fiber  online_security_no  online_security_yes  \\\n",
              "0                             0                   1                    0   \n",
              "1                             0                   0                    1   \n",
              "\n",
              "   online_backup_no  online_backup_yes  insurance_on_device_no  \\\n",
              "0                 0                  1                       1   \n",
              "1                 1                  0                       0   \n",
              "\n",
              "   insurance_on_device_yes  tecnical_support_no  tecnical_support_yes  \\\n",
              "0                        0                    1                     0   \n",
              "1                        1                    1                     0   \n",
              "\n",
              "   cable_tv_no  cable_tv_yes  streaming_movies_no  streaming_movies_yes  \\\n",
              "0            1             0                    1                     0   \n",
              "1            1             0                    1                     0   \n",
              "\n",
              "   type_of_contract_monthly  type_of_contract_one_year  \\\n",
              "0                         1                          0   \n",
              "1                         0                          1   \n",
              "\n",
              "   type_of_contract_two_years  payment_method_account_debit  \\\n",
              "0                           0                             0   \n",
              "1                           0                             0   \n",
              "\n",
              "   payment_method_credit_card  payment_method_digital_check  \\\n",
              "0                           0                             1   \n",
              "1                           0                             0   \n",
              "\n",
              "   payment_method_paper_check  churn  \n",
              "0                           0      0  \n",
              "1                           1      0  "
            ],
            "text/html": [
              "\n",
              "  <div id=\"df-c877523e-b46f-42d2-b80b-9e2726cf7d86\">\n",
              "    <div class=\"colab-df-container\">\n",
              "      <div>\n",
              "<style scoped>\n",
              "    .dataframe tbody tr th:only-of-type {\n",
              "        vertical-align: middle;\n",
              "    }\n",
              "\n",
              "    .dataframe tbody tr th {\n",
              "        vertical-align: top;\n",
              "    }\n",
              "\n",
              "    .dataframe thead th {\n",
              "        text-align: right;\n",
              "    }\n",
              "</style>\n",
              "<table border=\"1\" class=\"dataframe\">\n",
              "  <thead>\n",
              "    <tr style=\"text-align: right;\">\n",
              "      <th></th>\n",
              "      <th>spouse</th>\n",
              "      <th>dependents</th>\n",
              "      <th>landline</th>\n",
              "      <th>online_payment</th>\n",
              "      <th>over_65</th>\n",
              "      <th>contract_months</th>\n",
              "      <th>monthly_bill</th>\n",
              "      <th>several_line_phones_no</th>\n",
              "      <th>several_line_phones_no_phone_service</th>\n",
              "      <th>several_line_phones_yes</th>\n",
              "      <th>internet_service_DSL</th>\n",
              "      <th>internet_service_no</th>\n",
              "      <th>internet_service_optic_fiber</th>\n",
              "      <th>online_security_no</th>\n",
              "      <th>online_security_yes</th>\n",
              "      <th>online_backup_no</th>\n",
              "      <th>online_backup_yes</th>\n",
              "      <th>insurance_on_device_no</th>\n",
              "      <th>insurance_on_device_yes</th>\n",
              "      <th>tecnical_support_no</th>\n",
              "      <th>tecnical_support_yes</th>\n",
              "      <th>cable_tv_no</th>\n",
              "      <th>cable_tv_yes</th>\n",
              "      <th>streaming_movies_no</th>\n",
              "      <th>streaming_movies_yes</th>\n",
              "      <th>type_of_contract_monthly</th>\n",
              "      <th>type_of_contract_one_year</th>\n",
              "      <th>type_of_contract_two_years</th>\n",
              "      <th>payment_method_account_debit</th>\n",
              "      <th>payment_method_credit_card</th>\n",
              "      <th>payment_method_digital_check</th>\n",
              "      <th>payment_method_paper_check</th>\n",
              "      <th>churn</th>\n",
              "    </tr>\n",
              "  </thead>\n",
              "  <tbody>\n",
              "    <tr>\n",
              "      <th>0</th>\n",
              "      <td>1</td>\n",
              "      <td>0</td>\n",
              "      <td>0</td>\n",
              "      <td>1</td>\n",
              "      <td>0</td>\n",
              "      <td>1</td>\n",
              "      <td>29.85</td>\n",
              "      <td>0</td>\n",
              "      <td>1</td>\n",
              "      <td>0</td>\n",
              "      <td>1</td>\n",
              "      <td>0</td>\n",
              "      <td>0</td>\n",
              "      <td>1</td>\n",
              "      <td>0</td>\n",
              "      <td>0</td>\n",
              "      <td>1</td>\n",
              "      <td>1</td>\n",
              "      <td>0</td>\n",
              "      <td>1</td>\n",
              "      <td>0</td>\n",
              "      <td>1</td>\n",
              "      <td>0</td>\n",
              "      <td>1</td>\n",
              "      <td>0</td>\n",
              "      <td>1</td>\n",
              "      <td>0</td>\n",
              "      <td>0</td>\n",
              "      <td>0</td>\n",
              "      <td>0</td>\n",
              "      <td>1</td>\n",
              "      <td>0</td>\n",
              "      <td>0</td>\n",
              "    </tr>\n",
              "    <tr>\n",
              "      <th>1</th>\n",
              "      <td>0</td>\n",
              "      <td>0</td>\n",
              "      <td>1</td>\n",
              "      <td>0</td>\n",
              "      <td>0</td>\n",
              "      <td>34</td>\n",
              "      <td>56.95</td>\n",
              "      <td>1</td>\n",
              "      <td>0</td>\n",
              "      <td>0</td>\n",
              "      <td>1</td>\n",
              "      <td>0</td>\n",
              "      <td>0</td>\n",
              "      <td>0</td>\n",
              "      <td>1</td>\n",
              "      <td>1</td>\n",
              "      <td>0</td>\n",
              "      <td>0</td>\n",
              "      <td>1</td>\n",
              "      <td>1</td>\n",
              "      <td>0</td>\n",
              "      <td>1</td>\n",
              "      <td>0</td>\n",
              "      <td>1</td>\n",
              "      <td>0</td>\n",
              "      <td>0</td>\n",
              "      <td>1</td>\n",
              "      <td>0</td>\n",
              "      <td>0</td>\n",
              "      <td>0</td>\n",
              "      <td>0</td>\n",
              "      <td>1</td>\n",
              "      <td>0</td>\n",
              "    </tr>\n",
              "  </tbody>\n",
              "</table>\n",
              "</div>\n",
              "      <button class=\"colab-df-convert\" onclick=\"convertToInteractive('df-c877523e-b46f-42d2-b80b-9e2726cf7d86')\"\n",
              "              title=\"Convert this dataframe to an interactive table.\"\n",
              "              style=\"display:none;\">\n",
              "        \n",
              "  <svg xmlns=\"http://www.w3.org/2000/svg\" height=\"24px\"viewBox=\"0 0 24 24\"\n",
              "       width=\"24px\">\n",
              "    <path d=\"M0 0h24v24H0V0z\" fill=\"none\"/>\n",
              "    <path d=\"M18.56 5.44l.94 2.06.94-2.06 2.06-.94-2.06-.94-.94-2.06-.94 2.06-2.06.94zm-11 1L8.5 8.5l.94-2.06 2.06-.94-2.06-.94L8.5 2.5l-.94 2.06-2.06.94zm10 10l.94 2.06.94-2.06 2.06-.94-2.06-.94-.94-2.06-.94 2.06-2.06.94z\"/><path d=\"M17.41 7.96l-1.37-1.37c-.4-.4-.92-.59-1.43-.59-.52 0-1.04.2-1.43.59L10.3 9.45l-7.72 7.72c-.78.78-.78 2.05 0 2.83L4 21.41c.39.39.9.59 1.41.59.51 0 1.02-.2 1.41-.59l7.78-7.78 2.81-2.81c.8-.78.8-2.07 0-2.86zM5.41 20L4 18.59l7.72-7.72 1.47 1.35L5.41 20z\"/>\n",
              "  </svg>\n",
              "      </button>\n",
              "      \n",
              "  <style>\n",
              "    .colab-df-container {\n",
              "      display:flex;\n",
              "      flex-wrap:wrap;\n",
              "      gap: 12px;\n",
              "    }\n",
              "\n",
              "    .colab-df-convert {\n",
              "      background-color: #E8F0FE;\n",
              "      border: none;\n",
              "      border-radius: 50%;\n",
              "      cursor: pointer;\n",
              "      display: none;\n",
              "      fill: #1967D2;\n",
              "      height: 32px;\n",
              "      padding: 0 0 0 0;\n",
              "      width: 32px;\n",
              "    }\n",
              "\n",
              "    .colab-df-convert:hover {\n",
              "      background-color: #E2EBFA;\n",
              "      box-shadow: 0px 1px 2px rgba(60, 64, 67, 0.3), 0px 1px 3px 1px rgba(60, 64, 67, 0.15);\n",
              "      fill: #174EA6;\n",
              "    }\n",
              "\n",
              "    [theme=dark] .colab-df-convert {\n",
              "      background-color: #3B4455;\n",
              "      fill: #D2E3FC;\n",
              "    }\n",
              "\n",
              "    [theme=dark] .colab-df-convert:hover {\n",
              "      background-color: #434B5C;\n",
              "      box-shadow: 0px 1px 3px 1px rgba(0, 0, 0, 0.15);\n",
              "      filter: drop-shadow(0px 1px 2px rgba(0, 0, 0, 0.3));\n",
              "      fill: #FFFFFF;\n",
              "    }\n",
              "  </style>\n",
              "\n",
              "      <script>\n",
              "        const buttonEl =\n",
              "          document.querySelector('#df-c877523e-b46f-42d2-b80b-9e2726cf7d86 button.colab-df-convert');\n",
              "        buttonEl.style.display =\n",
              "          google.colab.kernel.accessAllowed ? 'block' : 'none';\n",
              "\n",
              "        async function convertToInteractive(key) {\n",
              "          const element = document.querySelector('#df-c877523e-b46f-42d2-b80b-9e2726cf7d86');\n",
              "          const dataTable =\n",
              "            await google.colab.kernel.invokeFunction('convertToInteractive',\n",
              "                                                     [key], {});\n",
              "          if (!dataTable) return;\n",
              "\n",
              "          const docLinkHtml = 'Like what you see? Visit the ' +\n",
              "            '<a target=\"_blank\" href=https://colab.research.google.com/notebooks/data_table.ipynb>data table notebook</a>'\n",
              "            + ' to learn more about interactive tables.';\n",
              "          element.innerHTML = '';\n",
              "          dataTable['output_type'] = 'display_data';\n",
              "          await google.colab.output.renderOutput(dataTable, element);\n",
              "          const docLink = document.createElement('div');\n",
              "          docLink.innerHTML = docLinkHtml;\n",
              "          element.appendChild(docLink);\n",
              "        }\n",
              "      </script>\n",
              "    </div>\n",
              "  </div>\n",
              "  "
            ]
          },
          "metadata": {},
          "execution_count": 21
        }
      ]
    },
    {
      "cell_type": "code",
      "source": [
        "#check 2 - balance\n",
        "ax = sns.countplot(x='churn', data=final_data)"
      ],
      "metadata": {
        "colab": {
          "base_uri": "https://localhost:8080/",
          "height": 279
        },
        "id": "QqLZ4FvjADIw",
        "outputId": "22189ec7-f717-426a-832c-7a16d8786e83"
      },
      "execution_count": 22,
      "outputs": [
        {
          "output_type": "display_data",
          "data": {
            "text/plain": [
              "<Figure size 432x288 with 1 Axes>"
            ],
            "image/png": "[encoded data removed]"
          },
          "metadata": {
            "needs_background": "light"
          }
        }
      ]
    },
    {
      "cell_type": "code",
      "source": [
        "final_data['churn'].value_counts()"
      ],
      "metadata": {
        "colab": {
          "base_uri": "https://localhost:8080/"
        },
        "id": "njCMV8cpAJAh",
        "outputId": "9d902447-6f56-4b08-e167-e502df85fa7f"
      },
      "execution_count": 23,
      "outputs": [
        {
          "output_type": "execute_result",
          "data": {
            "text/plain": [
              "0    5174\n",
              "1    5174\n",
              "Name: churn, dtype: int64"
            ]
          },
          "metadata": {},
          "execution_count": 23
        }
      ]
    },
    {
      "cell_type": "markdown",
      "source": [
        "# KNN behind the scenes"
      ],
      "metadata": {
        "id": "Lylr0E6hp1gA"
      }
    },
    {
      "cell_type": "code",
      "source": [
        "# Division into inputs and outputs\n",
        "X = final_data.drop('churn', axis=1)\n",
        "y = final_data['churn']"
      ],
      "metadata": {
        "id": "_8M9DOsvp71x"
      },
      "execution_count": 24,
      "outputs": []
    },
    {
      "cell_type": "code",
      "source": [
        "# Library to standardize data\n",
        "from sklearn.preprocessing import StandardScaler"
      ],
      "metadata": {
        "id": "Vnm1VUFCoXsJ"
      },
      "execution_count": 25,
      "outputs": []
    },
    {
      "cell_type": "code",
      "source": [
        "norm = StandardScaler()\n",
        "\n",
        "X_normalized = norm.fit_transform(X)\n",
        "X_normalized"
      ],
      "metadata": {
        "colab": {
          "base_uri": "https://localhost:8080/"
        },
        "id": "iFO82aNsoslk",
        "outputId": "1348008e-e7bf-44de-df22-104b72ba9d7b"
      },
      "execution_count": 26,
      "outputs": [
        {
          "output_type": "execute_result",
          "data": {
            "text/plain": [
              "array([[ 1.26542767, -0.52726104, -3.06594194, ..., -0.42624315,\n",
              "         1.30265061, -0.47943196],\n",
              "       [-0.79024667, -0.52726104,  0.32616404, ..., -0.42624315,\n",
              "        -0.76766555,  2.08580171],\n",
              "       [-0.79024667, -0.52726104,  0.32616404, ..., -0.42624315,\n",
              "        -0.76766555,  2.08580171],\n",
              "       ...,\n",
              "       [-0.79024667, -0.52726104,  0.32616404, ..., -0.42624315,\n",
              "         1.30265061, -0.47943196],\n",
              "       [-0.79024667, -0.52726104,  0.32616404, ...,  2.34607875,\n",
              "        -0.76766555, -0.47943196],\n",
              "       [-0.79024667, -0.52726104,  0.32616404, ...,  2.34607875,\n",
              "        -0.76766555, -0.47943196]])"
            ]
          },
          "metadata": {},
          "execution_count": 26
        }
      ]
    },
    {
      "cell_type": "code",
      "source": [
        "final_data"
      ],
      "metadata": {
        "colab": {
          "base_uri": "https://localhost:8080/",
          "height": 488
        },
        "id": "154zrLhBrXre",
        "outputId": "1a90e120-4dd5-46cf-fc1d-553060241382"
      },
      "execution_count": 27,
      "outputs": [
        {
          "output_type": "execute_result",
          "data": {
            "text/plain": [
              "       spouse  dependents  landline  online_payment  over_65  contract_months  \\\n",
              "0           1           0         0               1        0                1   \n",
              "1           0           0         1               0        0               34   \n",
              "2           0           0         1               1        0                2   \n",
              "3           0           0         0               0        0               45   \n",
              "4           0           0         1               1        0                2   \n",
              "...       ...         ...       ...             ...      ...              ...   \n",
              "10343       1           0         1               1        0                5   \n",
              "10344       0           0         1               1        0                3   \n",
              "10345       0           0         1               1        0               18   \n",
              "10346       0           0         1               0        0               30   \n",
              "10347       0           0         1               0        0                4   \n",
              "\n",
              "       monthly_bill  several_line_phones_no  \\\n",
              "0         29.850000                       0   \n",
              "1         56.950000                       1   \n",
              "2         53.850000                       1   \n",
              "3         42.300000                       0   \n",
              "4         70.700000                       1   \n",
              "...             ...                     ...   \n",
              "10343     80.921075                       0   \n",
              "10344     74.347278                       0   \n",
              "10345     70.164647                       1   \n",
              "10346     93.024726                       0   \n",
              "10347     50.880441                       0   \n",
              "\n",
              "       several_line_phones_no_phone_service  several_line_phones_yes  \\\n",
              "0                                         1                        0   \n",
              "1                                         0                        0   \n",
              "2                                         0                        0   \n",
              "3                                         1                        0   \n",
              "4                                         0                        0   \n",
              "...                                     ...                      ...   \n",
              "10343                                     0                        1   \n",
              "10344                                     0                        1   \n",
              "10345                                     0                        0   \n",
              "10346                                     0                        1   \n",
              "10347                                     0                        0   \n",
              "\n",
              "       internet_service_DSL  internet_service_no  \\\n",
              "0                         1                    0   \n",
              "1                         1                    0   \n",
              "2                         1                    0   \n",
              "3                         1                    0   \n",
              "4                         0                    0   \n",
              "...                     ...                  ...   \n",
              "10343                     0                    0   \n",
              "10344                     0                    0   \n",
              "10345                     0                    0   \n",
              "10346                     0                    0   \n",
              "10347                     1                    0   \n",
              "\n",
              "       internet_service_optic_fiber  online_security_no  online_security_yes  \\\n",
              "0                                 0                   1                    0   \n",
              "1                                 0                   0                    1   \n",
              "2                                 0                   0                    1   \n",
              "3                                 0                   0                    1   \n",
              "4                                 1                   1                    0   \n",
              "...                             ...                 ...                  ...   \n",
              "10343                             1                   1                    0   \n",
              "10344                             1                   1                    0   \n",
              "10345                             1                   1                    0   \n",
              "10346                             1                   0                    0   \n",
              "10347                             0                   1                    0   \n",
              "\n",
              "       online_backup_no  online_backup_yes  insurance_on_device_no  \\\n",
              "0                     0                  1                       1   \n",
              "1                     1                  0                       0   \n",
              "2                     0                  1                       1   \n",
              "3                     1                  0                       0   \n",
              "4                     1                  0                       1   \n",
              "...                 ...                ...                     ...   \n",
              "10343                 0                  1                       1   \n",
              "10344                 1                  0                       1   \n",
              "10345                 1                  0                       1   \n",
              "10346                 0                  1                       0   \n",
              "10347                 0                  0                       1   \n",
              "\n",
              "       insurance_on_device_yes  tecnical_support_no  tecnical_support_yes  \\\n",
              "0                            0                    1                     0   \n",
              "1                            1                    1                     0   \n",
              "2                            0                    1                     0   \n",
              "3                            1                    0                     1   \n",
              "4                            0                    1                     0   \n",
              "...                        ...                  ...                   ...   \n",
              "10343                        0                    1                     0   \n",
              "10344                        0                    1                     0   \n",
              "10345                        0                    1                     0   \n",
              "10346                        0                    0                     0   \n",
              "10347                        0                    1                     0   \n",
              "\n",
              "       cable_tv_no  cable_tv_yes  streaming_movies_no  streaming_movies_yes  \\\n",
              "0                1             0                    1                     0   \n",
              "1                1             0                    1                     0   \n",
              "2                1             0                    1                     0   \n",
              "3                1             0                    1                     0   \n",
              "4                1             0                    1                     0   \n",
              "...            ...           ...                  ...                   ...   \n",
              "10343            1             0                    1                     0   \n",
              "10344            1             0                    1                     0   \n",
              "10345            1             0                    1                     0   \n",
              "10346            0             0                    1                     0   \n",
              "10347            1             0                    1                     0   \n",
              "\n",
              "       type_of_contract_monthly  type_of_contract_one_year  \\\n",
              "0                             1                          0   \n",
              "1                             0                          1   \n",
              "2                             1                          0   \n",
              "3                             0                          1   \n",
              "4                             1                          0   \n",
              "...                         ...                        ...   \n",
              "10343                         1                          0   \n",
              "10344                         1                          0   \n",
              "10345                         1                          0   \n",
              "10346                         1                          0   \n",
              "10347                         1                          0   \n",
              "\n",
              "       type_of_contract_two_years  payment_method_account_debit  \\\n",
              "0                               0                             0   \n",
              "1                               0                             0   \n",
              "2                               0                             0   \n",
              "3                               0                             1   \n",
              "4                               0                             0   \n",
              "...                           ...                           ...   \n",
              "10343                           0                             0   \n",
              "10344                           0                             0   \n",
              "10345                           0                             0   \n",
              "10346                           0                             0   \n",
              "10347                           0                             0   \n",
              "\n",
              "       payment_method_credit_card  payment_method_digital_check  \\\n",
              "0                               0                             1   \n",
              "1                               0                             0   \n",
              "2                               0                             0   \n",
              "3                               0                             0   \n",
              "4                               0                             1   \n",
              "...                           ...                           ...   \n",
              "10343                           0                             1   \n",
              "10344                           1                             0   \n",
              "10345                           0                             1   \n",
              "10346                           1                             0   \n",
              "10347                           1                             0   \n",
              "\n",
              "       payment_method_paper_check  churn  \n",
              "0                               0      0  \n",
              "1                               1      0  \n",
              "2                               1      1  \n",
              "3                               0      0  \n",
              "4                               0      1  \n",
              "...                           ...    ...  \n",
              "10343                           0      1  \n",
              "10344                           0      1  \n",
              "10345                           0      1  \n",
              "10346                           0      1  \n",
              "10347                           0      1  \n",
              "\n",
              "[10348 rows x 33 columns]"
            ],
            "text/html": [
              "\n",
              "  <div id=\"df-d95c9fad-fd1c-4b63-a2f1-2844d84f3bae\">\n",
              "    <div class=\"colab-df-container\">\n",
              "      <div>\n",
              "<style scoped>\n",
              "    .dataframe tbody tr th:only-of-type {\n",
              "        vertical-align: middle;\n",
              "    }\n",
              "\n",
              "    .dataframe tbody tr th {\n",
              "        vertical-align: top;\n",
              "    }\n",
              "\n",
              "    .dataframe thead th {\n",
              "        text-align: right;\n",
              "    }\n",
              "</style>\n",
              "<table border=\"1\" class=\"dataframe\">\n",
              "  <thead>\n",
              "    <tr style=\"text-align: right;\">\n",
              "      <th></th>\n",
              "      <th>spouse</th>\n",
              "      <th>dependents</th>\n",
              "      <th>landline</th>\n",
              "      <th>online_payment</th>\n",
              "      <th>over_65</th>\n",
              "      <th>contract_months</th>\n",
              "      <th>monthly_bill</th>\n",
              "      <th>several_line_phones_no</th>\n",
              "      <th>several_line_phones_no_phone_service</th>\n",
              "      <th>several_line_phones_yes</th>\n",
              "      <th>internet_service_DSL</th>\n",
              "      <th>internet_service_no</th>\n",
              "      <th>internet_service_optic_fiber</th>\n",
              "      <th>online_security_no</th>\n",
              "      <th>online_security_yes</th>\n",
              "      <th>online_backup_no</th>\n",
              "      <th>online_backup_yes</th>\n",
              "      <th>insurance_on_device_no</th>\n",
              "      <th>insurance_on_device_yes</th>\n",
              "      <th>tecnical_support_no</th>\n",
              "      <th>tecnical_support_yes</th>\n",
              "      <th>cable_tv_no</th>\n",
              "      <th>cable_tv_yes</th>\n",
              "      <th>streaming_movies_no</th>\n",
              "      <th>streaming_movies_yes</th>\n",
              "      <th>type_of_contract_monthly</th>\n",
              "      <th>type_of_contract_one_year</th>\n",
              "      <th>type_of_contract_two_years</th>\n",
              "      <th>payment_method_account_debit</th>\n",
              "      <th>payment_method_credit_card</th>\n",
              "      <th>payment_method_digital_check</th>\n",
              "      <th>payment_method_paper_check</th>\n",
              "      <th>churn</th>\n",
              "    </tr>\n",
              "  </thead>\n",
              "  <tbody>\n",
              "    <tr>\n",
              "      <th>0</th>\n",
              "      <td>1</td>\n",
              "      <td>0</td>\n",
              "      <td>0</td>\n",
              "      <td>1</td>\n",
              "      <td>0</td>\n",
              "      <td>1</td>\n",
              "      <td>29.850000</td>\n",
              "      <td>0</td>\n",
              "      <td>1</td>\n",
              "      <td>0</td>\n",
              "      <td>1</td>\n",
              "      <td>0</td>\n",
              "      <td>0</td>\n",
              "      <td>1</td>\n",
              "      <td>0</td>\n",
              "      <td>0</td>\n",
              "      <td>1</td>\n",
              "      <td>1</td>\n",
              "      <td>0</td>\n",
              "      <td>1</td>\n",
              "      <td>0</td>\n",
              "      <td>1</td>\n",
              "      <td>0</td>\n",
              "      <td>1</td>\n",
              "      <td>0</td>\n",
              "      <td>1</td>\n",
              "      <td>0</td>\n",
              "      <td>0</td>\n",
              "      <td>0</td>\n",
              "      <td>0</td>\n",
              "      <td>1</td>\n",
              "      <td>0</td>\n",
              "      <td>0</td>\n",
              "    </tr>\n",
              "    <tr>\n",
              "      <th>1</th>\n",
              "      <td>0</td>\n",
              "      <td>0</td>\n",
              "      <td>1</td>\n",
              "      <td>0</td>\n",
              "      <td>0</td>\n",
              "      <td>34</td>\n",
              "      <td>56.950000</td>\n",
              "      <td>1</td>\n",
              "      <td>0</td>\n",
              "      <td>0</td>\n",
              "      <td>1</td>\n",
              "      <td>0</td>\n",
              "      <td>0</td>\n",
              "      <td>0</td>\n",
              "      <td>1</td>\n",
              "      <td>1</td>\n",
              "      <td>0</td>\n",
              "      <td>0</td>\n",
              "      <td>1</td>\n",
              "      <td>1</td>\n",
              "      <td>0</td>\n",
              "      <td>1</td>\n",
              "      <td>0</td>\n",
              "      <td>1</td>\n",
              "      <td>0</td>\n",
              "      <td>0</td>\n",
              "      <td>1</td>\n",
              "      <td>0</td>\n",
              "      <td>0</td>\n",
              "      <td>0</td>\n",
              "      <td>0</td>\n",
              "      <td>1</td>\n",
              "      <td>0</td>\n",
              "    </tr>\n",
              "    <tr>\n",
              "      <th>2</th>\n",
              "      <td>0</td>\n",
              "      <td>0</td>\n",
              "      <td>1</td>\n",
              "      <td>1</td>\n",
              "      <td>0</td>\n",
              "      <td>2</td>\n",
              "      <td>53.850000</td>\n",
              "      <td>1</td>\n",
              "      <td>0</td>\n",
              "      <td>0</td>\n",
              "      <td>1</td>\n",
              "      <td>0</td>\n",
              "      <td>0</td>\n",
              "      <td>0</td>\n",
              "      <td>1</td>\n",
              "      <td>0</td>\n",
              "      <td>1</td>\n",
              "      <td>1</td>\n",
              "      <td>0</td>\n",
              "      <td>1</td>\n",
              "      <td>0</td>\n",
              "      <td>1</td>\n",
              "      <td>0</td>\n",
              "      <td>1</td>\n",
              "      <td>0</td>\n",
              "      <td>1</td>\n",
              "      <td>0</td>\n",
              "      <td>0</td>\n",
              "      <td>0</td>\n",
              "      <td>0</td>\n",
              "      <td>0</td>\n",
              "      <td>1</td>\n",
              "      <td>1</td>\n",
              "    </tr>\n",
              "    <tr>\n",
              "      <th>3</th>\n",
              "      <td>0</td>\n",
              "      <td>0</td>\n",
              "      <td>0</td>\n",
              "      <td>0</td>\n",
              "      <td>0</td>\n",
              "      <td>45</td>\n",
              "      <td>42.300000</td>\n",
              "      <td>0</td>\n",
              "      <td>1</td>\n",
              "      <td>0</td>\n",
              "      <td>1</td>\n",
              "      <td>0</td>\n",
              "      <td>0</td>\n",
              "      <td>0</td>\n",
              "      <td>1</td>\n",
              "      <td>1</td>\n",
              "      <td>0</td>\n",
              "      <td>0</td>\n",
              "      <td>1</td>\n",
              "      <td>0</td>\n",
              "      <td>1</td>\n",
              "      <td>1</td>\n",
              "      <td>0</td>\n",
              "      <td>1</td>\n",
              "      <td>0</td>\n",
              "      <td>0</td>\n",
              "      <td>1</td>\n",
              "      <td>0</td>\n",
              "      <td>1</td>\n",
              "      <td>0</td>\n",
              "      <td>0</td>\n",
              "      <td>0</td>\n",
              "      <td>0</td>\n",
              "    </tr>\n",
              "    <tr>\n",
              "      <th>4</th>\n",
              "      <td>0</td>\n",
              "      <td>0</td>\n",
              "      <td>1</td>\n",
              "      <td>1</td>\n",
              "      <td>0</td>\n",
              "      <td>2</td>\n",
              "      <td>70.700000</td>\n",
              "      <td>1</td>\n",
              "      <td>0</td>\n",
              "      <td>0</td>\n",
              "      <td>0</td>\n",
              "      <td>0</td>\n",
              "      <td>1</td>\n",
              "      <td>1</td>\n",
              "      <td>0</td>\n",
              "      <td>1</td>\n",
              "      <td>0</td>\n",
              "      <td>1</td>\n",
              "      <td>0</td>\n",
              "      <td>1</td>\n",
              "      <td>0</td>\n",
              "      <td>1</td>\n",
              "      <td>0</td>\n",
              "      <td>1</td>\n",
              "      <td>0</td>\n",
              "      <td>1</td>\n",
              "      <td>0</td>\n",
              "      <td>0</td>\n",
              "      <td>0</td>\n",
              "      <td>0</td>\n",
              "      <td>1</td>\n",
              "      <td>0</td>\n",
              "      <td>1</td>\n",
              "    </tr>\n",
              "    <tr>\n",
              "      <th>...</th>\n",
              "      <td>...</td>\n",
              "      <td>...</td>\n",
              "      <td>...</td>\n",
              "      <td>...</td>\n",
              "      <td>...</td>\n",
              "      <td>...</td>\n",
              "      <td>...</td>\n",
              "      <td>...</td>\n",
              "      <td>...</td>\n",
              "      <td>...</td>\n",
              "      <td>...</td>\n",
              "      <td>...</td>\n",
              "      <td>...</td>\n",
              "      <td>...</td>\n",
              "      <td>...</td>\n",
              "      <td>...</td>\n",
              "      <td>...</td>\n",
              "      <td>...</td>\n",
              "      <td>...</td>\n",
              "      <td>...</td>\n",
              "      <td>...</td>\n",
              "      <td>...</td>\n",
              "      <td>...</td>\n",
              "      <td>...</td>\n",
              "      <td>...</td>\n",
              "      <td>...</td>\n",
              "      <td>...</td>\n",
              "      <td>...</td>\n",
              "      <td>...</td>\n",
              "      <td>...</td>\n",
              "      <td>...</td>\n",
              "      <td>...</td>\n",
              "      <td>...</td>\n",
              "    </tr>\n",
              "    <tr>\n",
              "      <th>10343</th>\n",
              "      <td>1</td>\n",
              "      <td>0</td>\n",
              "      <td>1</td>\n",
              "      <td>1</td>\n",
              "      <td>0</td>\n",
              "      <td>5</td>\n",
              "      <td>80.921075</td>\n",
              "      <td>0</td>\n",
              "      <td>0</td>\n",
              "      <td>1</td>\n",
              "      <td>0</td>\n",
              "      <td>0</td>\n",
              "      <td>1</td>\n",
              "      <td>1</td>\n",
              "      <td>0</td>\n",
              "      <td>0</td>\n",
              "      <td>1</td>\n",
              "      <td>1</td>\n",
              "      <td>0</td>\n",
              "      <td>1</td>\n",
              "      <td>0</td>\n",
              "      <td>1</td>\n",
              "      <td>0</td>\n",
              "      <td>1</td>\n",
              "      <td>0</td>\n",
              "      <td>1</td>\n",
              "      <td>0</td>\n",
              "      <td>0</td>\n",
              "      <td>0</td>\n",
              "      <td>0</td>\n",
              "      <td>1</td>\n",
              "      <td>0</td>\n",
              "      <td>1</td>\n",
              "    </tr>\n",
              "    <tr>\n",
              "      <th>10344</th>\n",
              "      <td>0</td>\n",
              "      <td>0</td>\n",
              "      <td>1</td>\n",
              "      <td>1</td>\n",
              "      <td>0</td>\n",
              "      <td>3</td>\n",
              "      <td>74.347278</td>\n",
              "      <td>0</td>\n",
              "      <td>0</td>\n",
              "      <td>1</td>\n",
              "      <td>0</td>\n",
              "      <td>0</td>\n",
              "      <td>1</td>\n",
              "      <td>1</td>\n",
              "      <td>0</td>\n",
              "      <td>1</td>\n",
              "      <td>0</td>\n",
              "      <td>1</td>\n",
              "      <td>0</td>\n",
              "      <td>1</td>\n",
              "      <td>0</td>\n",
              "      <td>1</td>\n",
              "      <td>0</td>\n",
              "      <td>1</td>\n",
              "      <td>0</td>\n",
              "      <td>1</td>\n",
              "      <td>0</td>\n",
              "      <td>0</td>\n",
              "      <td>0</td>\n",
              "      <td>1</td>\n",
              "      <td>0</td>\n",
              "      <td>0</td>\n",
              "      <td>1</td>\n",
              "    </tr>\n",
              "    <tr>\n",
              "      <th>10345</th>\n",
              "      <td>0</td>\n",
              "      <td>0</td>\n",
              "      <td>1</td>\n",
              "      <td>1</td>\n",
              "      <td>0</td>\n",
              "      <td>18</td>\n",
              "      <td>70.164647</td>\n",
              "      <td>1</td>\n",
              "      <td>0</td>\n",
              "      <td>0</td>\n",
              "      <td>0</td>\n",
              "      <td>0</td>\n",
              "      <td>1</td>\n",
              "      <td>1</td>\n",
              "      <td>0</td>\n",
              "      <td>1</td>\n",
              "      <td>0</td>\n",
              "      <td>1</td>\n",
              "      <td>0</td>\n",
              "      <td>1</td>\n",
              "      <td>0</td>\n",
              "      <td>1</td>\n",
              "      <td>0</td>\n",
              "      <td>1</td>\n",
              "      <td>0</td>\n",
              "      <td>1</td>\n",
              "      <td>0</td>\n",
              "      <td>0</td>\n",
              "      <td>0</td>\n",
              "      <td>0</td>\n",
              "      <td>1</td>\n",
              "      <td>0</td>\n",
              "      <td>1</td>\n",
              "    </tr>\n",
              "    <tr>\n",
              "      <th>10346</th>\n",
              "      <td>0</td>\n",
              "      <td>0</td>\n",
              "      <td>1</td>\n",
              "      <td>0</td>\n",
              "      <td>0</td>\n",
              "      <td>30</td>\n",
              "      <td>93.024726</td>\n",
              "      <td>0</td>\n",
              "      <td>0</td>\n",
              "      <td>1</td>\n",
              "      <td>0</td>\n",
              "      <td>0</td>\n",
              "      <td>1</td>\n",
              "      <td>0</td>\n",
              "      <td>0</td>\n",
              "      <td>0</td>\n",
              "      <td>1</td>\n",
              "      <td>0</td>\n",
              "      <td>0</td>\n",
              "      <td>0</td>\n",
              "      <td>0</td>\n",
              "      <td>0</td>\n",
              "      <td>0</td>\n",
              "      <td>1</td>\n",
              "      <td>0</td>\n",
              "      <td>1</td>\n",
              "      <td>0</td>\n",
              "      <td>0</td>\n",
              "      <td>0</td>\n",
              "      <td>1</td>\n",
              "      <td>0</td>\n",
              "      <td>0</td>\n",
              "      <td>1</td>\n",
              "    </tr>\n",
              "    <tr>\n",
              "      <th>10347</th>\n",
              "      <td>0</td>\n",
              "      <td>0</td>\n",
              "      <td>1</td>\n",
              "      <td>0</td>\n",
              "      <td>0</td>\n",
              "      <td>4</td>\n",
              "      <td>50.880441</td>\n",
              "      <td>0</td>\n",
              "      <td>0</td>\n",
              "      <td>0</td>\n",
              "      <td>1</td>\n",
              "      <td>0</td>\n",
              "      <td>0</td>\n",
              "      <td>1</td>\n",
              "      <td>0</td>\n",
              "      <td>0</td>\n",
              "      <td>0</td>\n",
              "      <td>1</td>\n",
              "      <td>0</td>\n",
              "      <td>1</td>\n",
              "      <td>0</td>\n",
              "      <td>1</td>\n",
              "      <td>0</td>\n",
              "      <td>1</td>\n",
              "      <td>0</td>\n",
              "      <td>1</td>\n",
              "      <td>0</td>\n",
              "      <td>0</td>\n",
              "      <td>0</td>\n",
              "      <td>1</td>\n",
              "      <td>0</td>\n",
              "      <td>0</td>\n",
              "      <td>1</td>\n",
              "    </tr>\n",
              "  </tbody>\n",
              "</table>\n",
              "<p>10348 rows × 33 columns</p>\n",
              "</div>\n",
              "      <button class=\"colab-df-convert\" onclick=\"convertToInteractive('df-d95c9fad-fd1c-4b63-a2f1-2844d84f3bae')\"\n",
              "              title=\"Convert this dataframe to an interactive table.\"\n",
              "              style=\"display:none;\">\n",
              "        \n",
              "  <svg xmlns=\"http://www.w3.org/2000/svg\" height=\"24px\"viewBox=\"0 0 24 24\"\n",
              "       width=\"24px\">\n",
              "    <path d=\"M0 0h24v24H0V0z\" fill=\"none\"/>\n",
              "    <path d=\"M18.56 5.44l.94 2.06.94-2.06 2.06-.94-2.06-.94-.94-2.06-.94 2.06-2.06.94zm-11 1L8.5 8.5l.94-2.06 2.06-.94-2.06-.94L8.5 2.5l-.94 2.06-2.06.94zm10 10l.94 2.06.94-2.06 2.06-.94-2.06-.94-.94-2.06-.94 2.06-2.06.94z\"/><path d=\"M17.41 7.96l-1.37-1.37c-.4-.4-.92-.59-1.43-.59-.52 0-1.04.2-1.43.59L10.3 9.45l-7.72 7.72c-.78.78-.78 2.05 0 2.83L4 21.41c.39.39.9.59 1.41.59.51 0 1.02-.2 1.41-.59l7.78-7.78 2.81-2.81c.8-.78.8-2.07 0-2.86zM5.41 20L4 18.59l7.72-7.72 1.47 1.35L5.41 20z\"/>\n",
              "  </svg>\n",
              "      </button>\n",
              "      \n",
              "  <style>\n",
              "    .colab-df-container {\n",
              "      display:flex;\n",
              "      flex-wrap:wrap;\n",
              "      gap: 12px;\n",
              "    }\n",
              "\n",
              "    .colab-df-convert {\n",
              "      background-color: #E8F0FE;\n",
              "      border: none;\n",
              "      border-radius: 50%;\n",
              "      cursor: pointer;\n",
              "      display: none;\n",
              "      fill: #1967D2;\n",
              "      height: 32px;\n",
              "      padding: 0 0 0 0;\n",
              "      width: 32px;\n",
              "    }\n",
              "\n",
              "    .colab-df-convert:hover {\n",
              "      background-color: #E2EBFA;\n",
              "      box-shadow: 0px 1px 2px rgba(60, 64, 67, 0.3), 0px 1px 3px 1px rgba(60, 64, 67, 0.15);\n",
              "      fill: #174EA6;\n",
              "    }\n",
              "\n",
              "    [theme=dark] .colab-df-convert {\n",
              "      background-color: #3B4455;\n",
              "      fill: #D2E3FC;\n",
              "    }\n",
              "\n",
              "    [theme=dark] .colab-df-convert:hover {\n",
              "      background-color: #434B5C;\n",
              "      box-shadow: 0px 1px 3px 1px rgba(0, 0, 0, 0.15);\n",
              "      filter: drop-shadow(0px 1px 2px rgba(0, 0, 0, 0.3));\n",
              "      fill: #FFFFFF;\n",
              "    }\n",
              "  </style>\n",
              "\n",
              "      <script>\n",
              "        const buttonEl =\n",
              "          document.querySelector('#df-d95c9fad-fd1c-4b63-a2f1-2844d84f3bae button.colab-df-convert');\n",
              "        buttonEl.style.display =\n",
              "          google.colab.kernel.accessAllowed ? 'block' : 'none';\n",
              "\n",
              "        async function convertToInteractive(key) {\n",
              "          const element = document.querySelector('#df-d95c9fad-fd1c-4b63-a2f1-2844d84f3bae');\n",
              "          const dataTable =\n",
              "            await google.colab.kernel.invokeFunction('convertToInteractive',\n",
              "                                                     [key], {});\n",
              "          if (!dataTable) return;\n",
              "\n",
              "          const docLinkHtml = 'Like what you see? Visit the ' +\n",
              "            '<a target=\"_blank\" href=https://colab.research.google.com/notebooks/data_table.ipynb>data table notebook</a>'\n",
              "            + ' to learn more about interactive tables.';\n",
              "          element.innerHTML = '';\n",
              "          dataTable['output_type'] = 'display_data';\n",
              "          await google.colab.output.renderOutput(dataTable, element);\n",
              "          const docLink = document.createElement('div');\n",
              "          docLink.innerHTML = docLinkHtml;\n",
              "          element.appendChild(docLink);\n",
              "        }\n",
              "      </script>\n",
              "    </div>\n",
              "  </div>\n",
              "  "
            ]
          },
          "metadata": {},
          "execution_count": 27
        }
      ]
    },
    {
      "cell_type": "code",
      "source": [
        "len(X_maria[0])"
      ],
      "metadata": {
        "colab": {
          "base_uri": "https://localhost:8080/"
        },
        "id": "7hSDlEDNrLdA",
        "outputId": "2a4b53b1-36c6-49bd-9cd0-c50dffa39d3f"
      },
      "execution_count": 28,
      "outputs": [
        {
          "output_type": "execute_result",
          "data": {
            "text/plain": [
              "32"
            ]
          },
          "metadata": {},
          "execution_count": 28
        }
      ]
    },
    {
      "cell_type": "code",
      "source": [
        "len(X.columns)"
      ],
      "metadata": {
        "colab": {
          "base_uri": "https://localhost:8080/"
        },
        "id": "S2AdztK9rOIt",
        "outputId": "7e90bc34-733f-4fd3-da18-1ac058ff2e30"
      },
      "execution_count": 29,
      "outputs": [
        {
          "output_type": "execute_result",
          "data": {
            "text/plain": [
              "32"
            ]
          },
          "metadata": {},
          "execution_count": 29
        }
      ]
    },
    {
      "cell_type": "code",
      "source": [
        "X_maria_normalized = norm.transform(pd.DataFrame(X_maria, columns=X.columns))\n",
        "X_maria_normalized"
      ],
      "metadata": {
        "colab": {
          "base_uri": "https://localhost:8080/"
        },
        "id": "vK2qrizzqffQ",
        "outputId": "d708193a-e4c9-4183-96ca-df0017f098d4"
      },
      "execution_count": 30,
      "outputs": [
        {
          "output_type": "execute_result",
          "data": {
            "text/plain": [
              "array([[-0.79024667, -0.52726104,  0.32616404,  0.81531354, -0.41318358,\n",
              "        -1.1493261 , -0.97234381,  1.13017199, -0.3134974 , -0.83416871,\n",
              "        -0.66077502,  2.23892458, -1.04386816,  0.86844437, -0.5173695 ,\n",
              "        -0.95834643, -0.63536575, -0.95853201,  1.5573554 ,  0.87997069,\n",
              "         1.90742727, -0.84252477, -0.77707385,  1.20384001,  1.26594459,\n",
              "        -1.35550751, -0.41989297,  2.23970513, -0.43617215, -0.42624315,\n",
              "        -0.76766555,  2.08580171]])"
            ]
          },
          "metadata": {},
          "execution_count": 30
        }
      ]
    },
    {
      "cell_type": "markdown",
      "source": [
        "Euclidean distance:\n",
        "\n",
        "$$\\sqrt{\\sum_{i=1}^k(a_{i}-b_{i})^2}$$"
      ],
      "metadata": {
        "id": "NJfzedoHvfZb"
      }
    },
    {
      "cell_type": "code",
      "source": [
        "import numpy as np"
      ],
      "metadata": {
        "id": "WagYEElKvd9-"
      },
      "execution_count": 31,
      "outputs": []
    },
    {
      "cell_type": "code",
      "source": [
        "a = X_maria_normalized\n",
        "b = X_normalized[0]\n",
        "\n",
        "np.sqrt(np.sum(np.square(a-b)))"
      ],
      "metadata": {
        "colab": {
          "base_uri": "https://localhost:8080/"
        },
        "id": "n-U7zdwgvp5i",
        "outputId": "65afb8df-35f8-4f2f-93b1-da94bf92b06d"
      },
      "execution_count": 32,
      "outputs": [
        {
          "output_type": "execute_result",
          "data": {
            "text/plain": [
              "9.725047478961574"
            ]
          },
          "metadata": {},
          "execution_count": 32
        }
      ]
    },
    {
      "cell_type": "markdown",
      "source": [
        "## Model implementation"
      ],
      "metadata": {
        "id": "RVg6TyX-wqpl"
      }
    },
    {
      "cell_type": "code",
      "source": [
        "# library to data splitting\n",
        "from sklearn.model_selection import train_test_split"
      ],
      "metadata": {
        "id": "C2iMvFvKqGtK"
      },
      "execution_count": 33,
      "outputs": []
    },
    {
      "cell_type": "code",
      "source": [
        "X_train, X_test, y_train, y_test = train_test_split(X_normalized, y, test_size=0.3, random_state=123)"
      ],
      "metadata": {
        "id": "crmN74O9qVVk"
      },
      "execution_count": 34,
      "outputs": []
    },
    {
      "cell_type": "markdown",
      "source": [
        "### Train and test "
      ],
      "metadata": {
        "id": "zJhuDlTmqeI-"
      }
    },
    {
      "cell_type": "code",
      "source": [
        "# library to create the machine learning model\n",
        "from sklearn.neighbors import KNeighborsClassifier"
      ],
      "metadata": {
        "id": "7yXD4JDpqjvq"
      },
      "execution_count": 35,
      "outputs": []
    },
    {
      "cell_type": "code",
      "source": [
        "# model instance - by default there are 5 neighbors \n",
        "knn = KNeighborsClassifier(metric='euclidean')"
      ],
      "metadata": {
        "id": "a-bZJ2QVqpuQ"
      },
      "execution_count": 36,
      "outputs": []
    },
    {
      "cell_type": "code",
      "source": [
        "# training the model with training data\n",
        "knn.fit(X_train, y_train)"
      ],
      "metadata": {
        "colab": {
          "base_uri": "https://localhost:8080/"
        },
        "id": "7jaBuPzUqyHI",
        "outputId": "bf94edb5-6812-41dd-a277-8f887ec7d4bc"
      },
      "execution_count": 37,
      "outputs": [
        {
          "output_type": "execute_result",
          "data": {
            "text/plain": [
              "KNeighborsClassifier(metric='euclidean')"
            ]
          },
          "metadata": {},
          "execution_count": 37
        }
      ]
    },
    {
      "cell_type": "code",
      "source": [
        "# testing the model with training data\n",
        "predicted_knn = knn.predict(X_test)"
      ],
      "metadata": {
        "id": "A8fKKnbarClm"
      },
      "execution_count": 38,
      "outputs": []
    },
    {
      "cell_type": "code",
      "source": [
        "predicted_knn"
      ],
      "metadata": {
        "colab": {
          "base_uri": "https://localhost:8080/"
        },
        "id": "XJZ1a0YtrSS2",
        "outputId": "683ed0f6-e2b4-48ad-fbbf-af774cb72bd4"
      },
      "execution_count": 39,
      "outputs": [
        {
          "output_type": "execute_result",
          "data": {
            "text/plain": [
              "array([1, 0, 0, ..., 0, 1, 1])"
            ]
          },
          "metadata": {},
          "execution_count": 39
        }
      ]
    },
    {
      "cell_type": "markdown",
      "source": [
        "# Naive Bayes Theorem"
      ],
      "metadata": {
        "id": "JSPjIqmDyoIr"
      }
    },
    {
      "cell_type": "code",
      "source": [
        "# library to create the machine learning model\n",
        "from sklearn.naive_bayes import BernoulliNB"
      ],
      "metadata": {
        "id": "q-OQywc9yyPl"
      },
      "execution_count": 40,
      "outputs": []
    },
    {
      "cell_type": "code",
      "source": [
        "# central value from our order data\n",
        "np.median(X_train)"
      ],
      "metadata": {
        "colab": {
          "base_uri": "https://localhost:8080/"
        },
        "id": "iRw1Stl4y7--",
        "outputId": "7960b632-270b-4a6b-8807-b355a43daf0c"
      },
      "execution_count": 41,
      "outputs": [
        {
          "output_type": "execute_result",
          "data": {
            "text/plain": [
              "-0.43617215267355836"
            ]
          },
          "metadata": {},
          "execution_count": 41
        }
      ]
    },
    {
      "cell_type": "code",
      "source": [
        "# model created\n",
        "bnb = BernoulliNB(binarize=-0.43)"
      ],
      "metadata": {
        "id": "SwwkKf-by351"
      },
      "execution_count": 42,
      "outputs": []
    },
    {
      "cell_type": "code",
      "source": [
        "# training the model\n",
        "bnb.fit(X_train, y_train)"
      ],
      "metadata": {
        "colab": {
          "base_uri": "https://localhost:8080/"
        },
        "id": "wMTqGxiLzIVX",
        "outputId": "7fb69aa2-2d97-4dcf-92ec-c1dd9a3bf90f"
      },
      "execution_count": 43,
      "outputs": [
        {
          "output_type": "execute_result",
          "data": {
            "text/plain": [
              "BernoulliNB(binarize=-0.43)"
            ]
          },
          "metadata": {},
          "execution_count": 43
        }
      ]
    },
    {
      "cell_type": "code",
      "source": [
        "# testing the model\n",
        "predicted_BNb = bnb.predict(X_test)"
      ],
      "metadata": {
        "id": "S2C8tk-MzNJ8"
      },
      "execution_count": 44,
      "outputs": []
    },
    {
      "cell_type": "code",
      "source": [
        "predicted_BNb"
      ],
      "metadata": {
        "colab": {
          "base_uri": "https://localhost:8080/"
        },
        "id": "nsRiBx5BzVEW",
        "outputId": "15b93a0f-25ec-41fa-a757-97cab35aea4b"
      },
      "execution_count": 45,
      "outputs": [
        {
          "output_type": "execute_result",
          "data": {
            "text/plain": [
              "array([1, 0, 0, ..., 1, 1, 1])"
            ]
          },
          "metadata": {},
          "execution_count": 45
        }
      ]
    },
    {
      "cell_type": "markdown",
      "source": [
        "# Decision Tree"
      ],
      "metadata": {
        "id": "gQSO4m5M4pjc"
      }
    },
    {
      "cell_type": "code",
      "source": [
        "# library to create the machine learning model\n",
        "from sklearn.tree import DecisionTreeClassifier"
      ],
      "metadata": {
        "id": "hYB4zHWS4tNf"
      },
      "execution_count": 46,
      "outputs": []
    },
    {
      "cell_type": "code",
      "source": [
        "# instantiating the model\n",
        "dtc = DecisionTreeClassifier(criterion='entropy', random_state=42)"
      ],
      "metadata": {
        "id": "RjfBYCJG4uqE"
      },
      "execution_count": 47,
      "outputs": []
    },
    {
      "cell_type": "code",
      "source": [
        "# training the model\n",
        "dtc.fit(X_train, y_train)"
      ],
      "metadata": {
        "colab": {
          "base_uri": "https://localhost:8080/"
        },
        "id": "nyzAakz94w41",
        "outputId": "98d0ab3e-c31c-4005-bff5-4aae32f8961b"
      },
      "execution_count": 48,
      "outputs": [
        {
          "output_type": "execute_result",
          "data": {
            "text/plain": [
              "DecisionTreeClassifier(criterion='entropy', random_state=42)"
            ]
          },
          "metadata": {},
          "execution_count": 48
        }
      ]
    },
    {
      "cell_type": "code",
      "source": [
        "# verify each attribute importance\n",
        "dtc.feature_importances_"
      ],
      "metadata": {
        "colab": {
          "base_uri": "https://localhost:8080/"
        },
        "id": "YOxNeH3B4yDN",
        "outputId": "7dc60ea0-46c7-45f5-ca5c-ee10740940d3"
      },
      "execution_count": 49,
      "outputs": [
        {
          "output_type": "execute_result",
          "data": {
            "text/plain": [
              "array([0.02211084, 0.01484608, 0.0063832 , 0.02132545, 0.01597364,\n",
              "       0.1670352 , 0.22105607, 0.00958077, 0.0036405 , 0.01114198,\n",
              "       0.0019815 , 0.00433452, 0.03131262, 0.01029835, 0.01667785,\n",
              "       0.00425544, 0.01104658, 0.01265506, 0.00626297, 0.01529974,\n",
              "       0.01977118, 0.0027293 , 0.0021119 , 0.00658277, 0.01212427,\n",
              "       0.16384005, 0.07422263, 0.03611651, 0.0176415 , 0.01764559,\n",
              "       0.02041032, 0.01958565])"
            ]
          },
          "metadata": {},
          "execution_count": 49
        }
      ]
    },
    {
      "cell_type": "code",
      "source": [
        "predicted_tree = dtc.predict(X_test)"
      ],
      "metadata": {
        "id": "5i1xZZZQ4zXq"
      },
      "execution_count": 50,
      "outputs": []
    },
    {
      "cell_type": "code",
      "source": [
        "predicted_tree"
      ],
      "metadata": {
        "colab": {
          "base_uri": "https://localhost:8080/"
        },
        "id": "uDn9VlSE40Z6",
        "outputId": "9251f43b-01e9-4c93-f35c-0365b3a677e4"
      },
      "execution_count": 51,
      "outputs": [
        {
          "output_type": "execute_result",
          "data": {
            "text/plain": [
              "array([0, 0, 0, ..., 1, 1, 1])"
            ]
          },
          "metadata": {},
          "execution_count": 51
        }
      ]
    },
    {
      "cell_type": "markdown",
      "source": [
        "# Models validation"
      ],
      "metadata": {
        "id": "HcC3eCGDOs5c"
      }
    },
    {
      "cell_type": "code",
      "source": [
        "from sklearn.metrics import confusion_matrix"
      ],
      "metadata": {
        "id": "e2m7MDMtOuf3"
      },
      "execution_count": 52,
      "outputs": []
    },
    {
      "cell_type": "code",
      "source": [
        "print(confusion_matrix(y_test, predicted_knn))"
      ],
      "metadata": {
        "colab": {
          "base_uri": "https://localhost:8080/"
        },
        "id": "4nExG0FfOz6l",
        "outputId": "1e1e2ba3-713f-479c-9e33-524e7f63446f"
      },
      "execution_count": 53,
      "outputs": [
        {
          "output_type": "stream",
          "name": "stdout",
          "text": [
            "[[1241  328]\n",
            " [ 247 1289]]\n"
          ]
        }
      ]
    },
    {
      "cell_type": "code",
      "source": [
        "print(confusion_matrix(y_test, predicted_BNb))"
      ],
      "metadata": {
        "colab": {
          "base_uri": "https://localhost:8080/"
        },
        "id": "D0gk2f-6O5qb",
        "outputId": "fea43b37-57ca-4ec9-9ff6-e442af2e4156"
      },
      "execution_count": 54,
      "outputs": [
        {
          "output_type": "stream",
          "name": "stdout",
          "text": [
            "[[1147  422]\n",
            " [ 321 1215]]\n"
          ]
        }
      ]
    },
    {
      "cell_type": "code",
      "source": [
        "print(confusion_matrix(y_test, predicted_tree))"
      ],
      "metadata": {
        "colab": {
          "base_uri": "https://localhost:8080/"
        },
        "id": "xFy4jfoPO9V1",
        "outputId": "7a0a2ff2-6d53-48f0-bc0b-92354944b931"
      },
      "execution_count": 56,
      "outputs": [
        {
          "output_type": "stream",
          "name": "stdout",
          "text": [
            "[[1256  313]\n",
            " [ 281 1255]]\n"
          ]
        }
      ]
    },
    {
      "cell_type": "markdown",
      "source": [
        "# Acuracy\n",
        "\n",
        "From the calculation of the confusion matrix, we were able to infer other metrics, such as accuracy.\n",
        "\n",
        "$ACC$ = ${TP + TN \\over TP + FP + TN + FN}$"
      ],
      "metadata": {
        "id": "nJPaBELKPI9G"
      }
    },
    {
      "cell_type": "code",
      "source": [
        "from sklearn.metrics import accuracy_score"
      ],
      "metadata": {
        "id": "S_8V_JjAPKb-"
      },
      "execution_count": 57,
      "outputs": []
    },
    {
      "cell_type": "code",
      "source": [
        "# KNN model\n",
        "print(accuracy_score(y_test, predicted_knn))"
      ],
      "metadata": {
        "colab": {
          "base_uri": "https://localhost:8080/"
        },
        "id": "MwNAjFiiPLzi",
        "outputId": "99795f2c-6551-4726-8f94-e1df39dde850"
      },
      "execution_count": 58,
      "outputs": [
        {
          "output_type": "stream",
          "name": "stdout",
          "text": [
            "0.8148148148148148\n"
          ]
        }
      ]
    },
    {
      "cell_type": "code",
      "source": [
        "# Bernoulli naive bayes model\n",
        "print(accuracy_score(y_test, predicted_BNb))"
      ],
      "metadata": {
        "colab": {
          "base_uri": "https://localhost:8080/"
        },
        "id": "-D3CCd-pPNgJ",
        "outputId": "442bc221-285f-482b-c25b-6f8518a660a2"
      },
      "execution_count": 59,
      "outputs": [
        {
          "output_type": "stream",
          "name": "stdout",
          "text": [
            "0.7607085346215781\n"
          ]
        }
      ]
    },
    {
      "cell_type": "code",
      "source": [
        "# Decision tree model\n",
        "print(accuracy_score(y_test, predicted_tree))"
      ],
      "metadata": {
        "colab": {
          "base_uri": "https://localhost:8080/"
        },
        "id": "FA0rIXUwPOyS",
        "outputId": "2d91f528-d1d5-4482-8761-83130016c198"
      },
      "execution_count": 60,
      "outputs": [
        {
          "output_type": "stream",
          "name": "stdout",
          "text": [
            "0.808695652173913\n"
          ]
        }
      ]
    },
    {
      "cell_type": "markdown",
      "source": [
        "# Precision\n",
        "\n",
        "Another important metric is precision, which calculates how many were correctly classified as positive ($TP$).\n",
        "\n",
        "$PS$ = ${TP \\over TP + FP}$"
      ],
      "metadata": {
        "id": "E4vIs_dOPQ2Q"
      }
    },
    {
      "cell_type": "code",
      "source": [
        "from sklearn.metrics import precision_score"
      ],
      "metadata": {
        "id": "OmbtFgQ1PSC6"
      },
      "execution_count": 61,
      "outputs": []
    },
    {
      "cell_type": "code",
      "source": [
        "# KNN model\n",
        "print(precision_score(y_test, predicted_knn))"
      ],
      "metadata": {
        "colab": {
          "base_uri": "https://localhost:8080/"
        },
        "id": "hyhVtQvXPT4M",
        "outputId": "2cb8a45c-31f2-47bd-dd82-db5e7ee29b36"
      },
      "execution_count": 62,
      "outputs": [
        {
          "output_type": "stream",
          "name": "stdout",
          "text": [
            "0.7971552257266543\n"
          ]
        }
      ]
    },
    {
      "cell_type": "code",
      "source": [
        "# Bernoulli naive bayes model\n",
        "print(precision_score(y_test, predicted_BNb))"
      ],
      "metadata": {
        "colab": {
          "base_uri": "https://localhost:8080/"
        },
        "id": "vJxlLEaBPVG2",
        "outputId": "ab12e64c-6310-46e1-e3d5-5f44eedfe6ba"
      },
      "execution_count": 63,
      "outputs": [
        {
          "output_type": "stream",
          "name": "stdout",
          "text": [
            "0.7422113622480146\n"
          ]
        }
      ]
    },
    {
      "cell_type": "code",
      "source": [
        "# Decision tree model\n",
        "print(precision_score(y_test, predicted_tree))"
      ],
      "metadata": {
        "colab": {
          "base_uri": "https://localhost:8080/"
        },
        "id": "XWEz0c6iPWun",
        "outputId": "a6e19554-0889-496c-9044-100637cc4aeb"
      },
      "execution_count": 64,
      "outputs": [
        {
          "output_type": "stream",
          "name": "stdout",
          "text": [
            "0.8003826530612245\n"
          ]
        }
      ]
    },
    {
      "cell_type": "markdown",
      "source": [
        "# Recall\n",
        "\n",
        "Another important metric is Recall or sensitivity, which calculates how good the model is at correctly classifying a positive result ($TP$).\n",
        "\n",
        "$RC$ = ${TP \\over TP + FN}$"
      ],
      "metadata": {
        "id": "NFWGINfePY6D"
      }
    },
    {
      "cell_type": "code",
      "source": [
        "from sklearn.metrics import recall_score"
      ],
      "metadata": {
        "id": "1urqMNkIPbIv"
      },
      "execution_count": 65,
      "outputs": []
    },
    {
      "cell_type": "code",
      "source": [
        "# KNN model\n",
        "print(recall_score(y_test, predicted_knn))"
      ],
      "metadata": {
        "colab": {
          "base_uri": "https://localhost:8080/"
        },
        "id": "kZH3LFRyPcrq",
        "outputId": "df62ab2a-2426-4bdf-ac57-50153c7bc332"
      },
      "execution_count": 66,
      "outputs": [
        {
          "output_type": "stream",
          "name": "stdout",
          "text": [
            "0.8391927083333334\n"
          ]
        }
      ]
    },
    {
      "cell_type": "code",
      "source": [
        "# Bernoulli naive bayes model\n",
        "print(recall_score(y_test, predicted_BNb))"
      ],
      "metadata": {
        "colab": {
          "base_uri": "https://localhost:8080/"
        },
        "id": "Q2KbA5YcPdHT",
        "outputId": "61ee7182-ca10-4f6b-ec95-6a0b360be8d8"
      },
      "execution_count": 67,
      "outputs": [
        {
          "output_type": "stream",
          "name": "stdout",
          "text": [
            "0.791015625\n"
          ]
        }
      ]
    },
    {
      "cell_type": "code",
      "source": [
        "# Decision tree model\n",
        "print(recall_score(y_test, predicted_tree))"
      ],
      "metadata": {
        "colab": {
          "base_uri": "https://localhost:8080/"
        },
        "id": "QwF2s1r2Pfrm",
        "outputId": "9350b876-c63e-4eac-ffac-60058b56aa6b"
      },
      "execution_count": 68,
      "outputs": [
        {
          "output_type": "stream",
          "name": "stdout",
          "text": [
            "0.8170572916666666\n"
          ]
        }
      ]
    },
    {
      "cell_type": "markdown",
      "source": [
        "# Choosing the best model"
      ],
      "metadata": {
        "id": "TosAAkpoPgNL"
      }
    },
    {
      "cell_type": "code",
      "source": [
        "# Example - analysis of previously calculated precisions\n",
        "print('KNN model: ', precision_score(y_test, predicted_knn))\n",
        "print('Bernoulli naive bayes model: ', precision_score(y_test, predicted_BNb))\n",
        "print('Decision tree model: ', precision_score(y_test, predicted_tree))"
      ],
      "metadata": {
        "colab": {
          "base_uri": "https://localhost:8080/"
        },
        "id": "3m2M98xHPoIu",
        "outputId": "2ce60c86-6ae1-4920-ba2a-1f5ec3eaf3e1"
      },
      "execution_count": 69,
      "outputs": [
        {
          "output_type": "stream",
          "name": "stdout",
          "text": [
            "KNN model:  0.7971552257266543\n",
            "Bernoulli naive bayes model:  0.7422113622480146\n",
            "Decision tree model:  0.8003826530612245\n"
          ]
        }
      ]
    }
  ]
}